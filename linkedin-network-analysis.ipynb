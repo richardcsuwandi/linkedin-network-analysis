{
 "cells": [
  {
   "cell_type": "markdown",
   "metadata": {
    "papermill": {
     "duration": 0.017028,
     "end_time": "2021-02-24T05:24:21.141650",
     "exception": false,
     "start_time": "2021-02-24T05:24:21.124622",
     "status": "completed"
    },
    "tags": []
   },
   "source": [
    "# LinkedIn Network Analysis\n",
    "Author: [Richard Cornelius Suwandi](https://github.com/richardcsuwandi)\n",
    "\n",
    "As an active user on [LinkedIn](https://www.linkedin.com/in/richardcsuwandi/) with more than 1000 connections, I was curious about the statistics of my network. In this project, I utilized exploratory analysis and data visualizations to gain insights from my own LinkedIn data."
   ]
  },
  {
   "cell_type": "markdown",
   "metadata": {
    "papermill": {
     "duration": 0.015615,
     "end_time": "2021-02-24T05:24:21.173339",
     "exception": false,
     "start_time": "2021-02-24T05:24:21.157724",
     "status": "completed"
    },
    "tags": []
   },
   "source": [
    "## Data Preparation\n",
    "First, let's import the necessary libraries for this project:"
   ]
  },
  {
   "cell_type": "code",
   "execution_count": 1,
   "metadata": {
    "_cell_guid": "b1076dfc-b9ad-4769-8c92-a6c4dae69d19",
    "_uuid": "8f2839f25d086af736a60e9eeb907d3b93b6e0e5",
    "execution": {
     "iopub.execute_input": "2021-02-24T05:24:21.208850Z",
     "iopub.status.busy": "2021-02-24T05:24:21.208140Z",
     "iopub.status.idle": "2021-02-24T05:24:22.438069Z",
     "shell.execute_reply": "2021-02-24T05:24:22.437247Z"
    },
    "papermill": {
     "duration": 1.24893,
     "end_time": "2021-02-24T05:24:22.438276",
     "exception": false,
     "start_time": "2021-02-24T05:24:21.189346",
     "status": "completed"
    },
    "tags": []
   },
   "outputs": [],
   "source": [
    "# Import the libraries\n",
    "import pandas as pd\n",
    "import plotly.express as px\n",
    "import plotly.graph_objects as go"
   ]
  },
  {
   "cell_type": "markdown",
   "metadata": {
    "papermill": {
     "duration": 0.015871,
     "end_time": "2021-02-24T05:24:22.470502",
     "exception": false,
     "start_time": "2021-02-24T05:24:22.454631",
     "status": "completed"
    },
    "tags": []
   },
   "source": [
    "Next, we can load the data that is already downloaded as a `.csv` file. To download your own data, you can go [here](https://www.linkedin.com/help/linkedin/answer/50191/downloading-your-account-data?lang=en)\n",
    "\n",
    "Note: Due to privacy issues, the data that is shown in this project might be slightly different from the original data."
   ]
  },
  {
   "cell_type": "code",
   "execution_count": 4,
   "metadata": {
    "execution": {
     "iopub.execute_input": "2021-02-24T05:24:22.508313Z",
     "iopub.status.busy": "2021-02-24T05:24:22.507576Z",
     "iopub.status.idle": "2021-02-24T05:24:22.564541Z",
     "shell.execute_reply": "2021-02-24T05:24:22.565064Z"
    },
    "papermill": {
     "duration": 0.078555,
     "end_time": "2021-02-24T05:24:22.565247",
     "exception": false,
     "start_time": "2021-02-24T05:24:22.486692",
     "status": "completed"
    },
    "tags": []
   },
   "outputs": [
    {
     "output_type": "execute_result",
     "data": {
      "text/plain": [
       "     First Name  Last Name                                Company  \\\n",
       "0     Anastasia     Gorina                            Prime Clerk   \n",
       "1       Michael     Duncan                         DispatchHealth   \n",
       "2         Cansu     CANDAN    KTU Artificial Intelligence Society   \n",
       "3       Richard     Pisano                            Springboard   \n",
       "4         Arbak    Aydemir                                  Apple   \n",
       "5       Antonio  Boza León            Waku casa de Software, C.A.   \n",
       "6  Abir Akhalak       Khan  Genesys International Corporation Ltd   \n",
       "7          Aman      Malik                                    NaN   \n",
       "8          Ömer      Peköz                               SITEMARK   \n",
       "9        Victor       Basu                                  Lumiq   \n",
       "\n",
       "                           Position Connected On  \n",
       "0                      Data Analyst  22 Feb 2021  \n",
       "1     Jr. Machine Learning Engineer  22 Feb 2021  \n",
       "2   Member Of The Management Board   22 Feb 2021  \n",
       "3                      Data Analyst  22 Feb 2021  \n",
       "4        AI/ML - Annotation Analyst  22 Feb 2021  \n",
       "5               Científico de datos  22 Feb 2021  \n",
       "6  Artificial Intelligence Engineer  22 Feb 2021  \n",
       "7                               NaN  22 Feb 2021  \n",
       "8          Data Processing Engineer  22 Feb 2021  \n",
       "9                    Data Scientist  22 Feb 2021  "
      ],
      "text/html": "<div>\n<style scoped>\n    .dataframe tbody tr th:only-of-type {\n        vertical-align: middle;\n    }\n\n    .dataframe tbody tr th {\n        vertical-align: top;\n    }\n\n    .dataframe thead th {\n        text-align: right;\n    }\n</style>\n<table border=\"1\" class=\"dataframe\">\n  <thead>\n    <tr style=\"text-align: right;\">\n      <th></th>\n      <th>First Name</th>\n      <th>Last Name</th>\n      <th>Company</th>\n      <th>Position</th>\n      <th>Connected On</th>\n    </tr>\n  </thead>\n  <tbody>\n    <tr>\n      <th>0</th>\n      <td>Anastasia</td>\n      <td>Gorina</td>\n      <td>Prime Clerk</td>\n      <td>Data Analyst</td>\n      <td>22 Feb 2021</td>\n    </tr>\n    <tr>\n      <th>1</th>\n      <td>Michael</td>\n      <td>Duncan</td>\n      <td>DispatchHealth</td>\n      <td>Jr. Machine Learning Engineer</td>\n      <td>22 Feb 2021</td>\n    </tr>\n    <tr>\n      <th>2</th>\n      <td>Cansu</td>\n      <td>CANDAN</td>\n      <td>KTU Artificial Intelligence Society</td>\n      <td>Member Of The Management Board</td>\n      <td>22 Feb 2021</td>\n    </tr>\n    <tr>\n      <th>3</th>\n      <td>Richard</td>\n      <td>Pisano</td>\n      <td>Springboard</td>\n      <td>Data Analyst</td>\n      <td>22 Feb 2021</td>\n    </tr>\n    <tr>\n      <th>4</th>\n      <td>Arbak</td>\n      <td>Aydemir</td>\n      <td>Apple</td>\n      <td>AI/ML - Annotation Analyst</td>\n      <td>22 Feb 2021</td>\n    </tr>\n    <tr>\n      <th>5</th>\n      <td>Antonio</td>\n      <td>Boza León</td>\n      <td>Waku casa de Software, C.A.</td>\n      <td>Científico de datos</td>\n      <td>22 Feb 2021</td>\n    </tr>\n    <tr>\n      <th>6</th>\n      <td>Abir Akhalak</td>\n      <td>Khan</td>\n      <td>Genesys International Corporation Ltd</td>\n      <td>Artificial Intelligence Engineer</td>\n      <td>22 Feb 2021</td>\n    </tr>\n    <tr>\n      <th>7</th>\n      <td>Aman</td>\n      <td>Malik</td>\n      <td>NaN</td>\n      <td>NaN</td>\n      <td>22 Feb 2021</td>\n    </tr>\n    <tr>\n      <th>8</th>\n      <td>Ömer</td>\n      <td>Peköz</td>\n      <td>SITEMARK</td>\n      <td>Data Processing Engineer</td>\n      <td>22 Feb 2021</td>\n    </tr>\n    <tr>\n      <th>9</th>\n      <td>Victor</td>\n      <td>Basu</td>\n      <td>Lumiq</td>\n      <td>Data Scientist</td>\n      <td>22 Feb 2021</td>\n    </tr>\n  </tbody>\n</table>\n</div>"
     },
     "metadata": {},
     "execution_count": 4
    }
   ],
   "source": [
    "# Load the data\n",
    "df = pd.read_csv(\"Connections.csv\")\n",
    "df.head(10)"
   ]
  },
  {
   "cell_type": "markdown",
   "metadata": {
    "papermill": {
     "duration": 0.016414,
     "end_time": "2021-02-24T05:24:22.599150",
     "exception": false,
     "start_time": "2021-02-24T05:24:22.582736",
     "status": "completed"
    },
    "tags": []
   },
   "source": [
    "The DataFrame above displays only my 10 latest connections on LinkedIn. The `Connected On` column indicates the date that I connect to that person."
   ]
  },
  {
   "cell_type": "code",
   "execution_count": 5,
   "metadata": {
    "execution": {
     "iopub.execute_input": "2021-02-24T05:24:22.644343Z",
     "iopub.status.busy": "2021-02-24T05:24:22.643561Z",
     "iopub.status.idle": "2021-02-24T05:24:22.683535Z",
     "shell.execute_reply": "2021-02-24T05:24:22.682808Z"
    },
    "papermill": {
     "duration": 0.067877,
     "end_time": "2021-02-24T05:24:22.683707",
     "exception": false,
     "start_time": "2021-02-24T05:24:22.615830",
     "status": "completed"
    },
    "tags": []
   },
   "outputs": [
    {
     "output_type": "execute_result",
     "data": {
      "text/plain": [
       "       First Name Last Name  \\\n",
       "count        1029      1029   \n",
       "unique        908       902   \n",
       "top        Andrew     Kumar   \n",
       "freq            7         9   \n",
       "\n",
       "                                                  Company        Position  \\\n",
       "count                                                 952             952   \n",
       "unique                                                800             674   \n",
       "top     The Chinese University of Hong Kong, Shenzhen ...  Data Scientist   \n",
       "freq                                                   30              76   \n",
       "\n",
       "       Connected On  \n",
       "count          1034  \n",
       "unique          223  \n",
       "top     26 Aug 2020  \n",
       "freq             67  "
      ],
      "text/html": "<div>\n<style scoped>\n    .dataframe tbody tr th:only-of-type {\n        vertical-align: middle;\n    }\n\n    .dataframe tbody tr th {\n        vertical-align: top;\n    }\n\n    .dataframe thead th {\n        text-align: right;\n    }\n</style>\n<table border=\"1\" class=\"dataframe\">\n  <thead>\n    <tr style=\"text-align: right;\">\n      <th></th>\n      <th>First Name</th>\n      <th>Last Name</th>\n      <th>Company</th>\n      <th>Position</th>\n      <th>Connected On</th>\n    </tr>\n  </thead>\n  <tbody>\n    <tr>\n      <th>count</th>\n      <td>1029</td>\n      <td>1029</td>\n      <td>952</td>\n      <td>952</td>\n      <td>1034</td>\n    </tr>\n    <tr>\n      <th>unique</th>\n      <td>908</td>\n      <td>902</td>\n      <td>800</td>\n      <td>674</td>\n      <td>223</td>\n    </tr>\n    <tr>\n      <th>top</th>\n      <td>Andrew</td>\n      <td>Kumar</td>\n      <td>The Chinese University of Hong Kong, Shenzhen ...</td>\n      <td>Data Scientist</td>\n      <td>26 Aug 2020</td>\n    </tr>\n    <tr>\n      <th>freq</th>\n      <td>7</td>\n      <td>9</td>\n      <td>30</td>\n      <td>76</td>\n      <td>67</td>\n    </tr>\n  </tbody>\n</table>\n</div>"
     },
     "metadata": {},
     "execution_count": 5
    }
   ],
   "source": [
    "# Describe the data\n",
    "df.describe()"
   ]
  },
  {
   "cell_type": "markdown",
   "metadata": {
    "papermill": {
     "duration": 0.018392,
     "end_time": "2021-02-24T05:24:22.719612",
     "exception": false,
     "start_time": "2021-02-24T05:24:22.701220",
     "status": "completed"
    },
    "tags": []
   },
   "source": [
    "## Date Connected"
   ]
  },
  {
   "cell_type": "markdown",
   "metadata": {
    "papermill": {
     "duration": 0.017006,
     "end_time": "2021-02-24T05:24:22.753655",
     "exception": false,
     "start_time": "2021-02-24T05:24:22.736649",
     "status": "completed"
    },
    "tags": []
   },
   "source": [
    "Let's take a closer look on the `Connected On` column. But before that, we need to convert that column into a datetime format ."
   ]
  },
  {
   "cell_type": "code",
   "execution_count": 6,
   "metadata": {
    "execution": {
     "iopub.execute_input": "2021-02-24T05:24:22.804626Z",
     "iopub.status.busy": "2021-02-24T05:24:22.799794Z",
     "iopub.status.idle": "2021-02-24T05:24:22.830733Z",
     "shell.execute_reply": "2021-02-24T05:24:22.830190Z"
    },
    "papermill": {
     "duration": 0.06014,
     "end_time": "2021-02-24T05:24:22.830890",
     "exception": false,
     "start_time": "2021-02-24T05:24:22.770750",
     "status": "completed"
    },
    "tags": []
   },
   "outputs": [
    {
     "output_type": "execute_result",
     "data": {
      "text/plain": [
       "0      2021-02-22\n",
       "1      2021-02-22\n",
       "2      2021-02-22\n",
       "3      2021-02-22\n",
       "4      2021-02-22\n",
       "          ...    \n",
       "1029   2020-05-21\n",
       "1030   2020-05-21\n",
       "1031   2020-05-21\n",
       "1032   2020-05-21\n",
       "1033   2020-05-16\n",
       "Name: Connected On, Length: 1034, dtype: datetime64[ns]"
      ]
     },
     "metadata": {},
     "execution_count": 6
    }
   ],
   "source": [
    "# Convert the 'Connected On' column to datetime format\n",
    "df[\"Connected On\"] = pd.to_datetime(df[\"Connected On\"])\n",
    "df[\"Connected On\"]"
   ]
  },
  {
   "cell_type": "markdown",
   "metadata": {
    "papermill": {
     "duration": 0.018342,
     "end_time": "2021-02-24T05:24:22.867785",
     "exception": false,
     "start_time": "2021-02-24T05:24:22.849443",
     "status": "completed"
    },
    "tags": []
   },
   "source": [
    "Now, we can visualize the number of connections on a given date using Plotly's line plot."
   ]
  },
  {
   "cell_type": "code",
   "execution_count": 7,
   "metadata": {
    "execution": {
     "iopub.execute_input": "2021-02-24T05:24:22.915339Z",
     "iopub.status.busy": "2021-02-24T05:24:22.914661Z",
     "iopub.status.idle": "2021-02-24T05:24:24.241588Z",
     "shell.execute_reply": "2021-02-24T05:24:24.241074Z"
    },
    "papermill": {
     "duration": 1.355885,
     "end_time": "2021-02-24T05:24:24.241733",
     "exception": false,
     "start_time": "2021-02-24T05:24:22.885848",
     "status": "completed"
    },
    "tags": []
   },
   "outputs": [
    {
     "output_type": "display_data",
     "data": {
      "application/vnd.plotly.v1+json": {
       "config": {
        "plotlyServerURL": "https://plotly.com"
       },
       "data": [
        {
         "hovertemplate": "Connected On=%{x}<br>Count=%{y}<extra></extra>",
         "legendgroup": "",
         "line": {
          "color": "#636efa",
          "dash": "solid"
         },
         "mode": "lines",
         "name": "",
         "orientation": "v",
         "showlegend": false,
         "type": "scatter",
         "x": [
          "2020-05-16T00:00:00",
          "2020-05-21T00:00:00",
          "2020-05-22T00:00:00",
          "2020-05-23T00:00:00",
          "2020-05-25T00:00:00",
          "2020-05-26T00:00:00",
          "2020-05-28T00:00:00",
          "2020-05-31T00:00:00",
          "2020-06-01T00:00:00",
          "2020-06-02T00:00:00",
          "2020-06-05T00:00:00",
          "2020-06-08T00:00:00",
          "2020-06-09T00:00:00",
          "2020-06-10T00:00:00",
          "2020-06-12T00:00:00",
          "2020-06-16T00:00:00",
          "2020-06-17T00:00:00",
          "2020-06-18T00:00:00",
          "2020-06-19T00:00:00",
          "2020-06-21T00:00:00",
          "2020-06-22T00:00:00",
          "2020-06-23T00:00:00",
          "2020-06-24T00:00:00",
          "2020-06-25T00:00:00",
          "2020-06-27T00:00:00",
          "2020-06-28T00:00:00",
          "2020-06-29T00:00:00",
          "2020-06-30T00:00:00",
          "2020-07-01T00:00:00",
          "2020-07-03T00:00:00",
          "2020-07-04T00:00:00",
          "2020-07-05T00:00:00",
          "2020-07-06T00:00:00",
          "2020-07-07T00:00:00",
          "2020-07-08T00:00:00",
          "2020-07-09T00:00:00",
          "2020-07-10T00:00:00",
          "2020-07-11T00:00:00",
          "2020-07-14T00:00:00",
          "2020-07-15T00:00:00",
          "2020-07-17T00:00:00",
          "2020-07-18T00:00:00",
          "2020-07-19T00:00:00",
          "2020-07-20T00:00:00",
          "2020-07-21T00:00:00",
          "2020-07-22T00:00:00",
          "2020-07-23T00:00:00",
          "2020-07-25T00:00:00",
          "2020-07-26T00:00:00",
          "2020-07-27T00:00:00",
          "2020-07-28T00:00:00",
          "2020-07-29T00:00:00",
          "2020-07-30T00:00:00",
          "2020-07-31T00:00:00",
          "2020-08-01T00:00:00",
          "2020-08-02T00:00:00",
          "2020-08-03T00:00:00",
          "2020-08-04T00:00:00",
          "2020-08-05T00:00:00",
          "2020-08-06T00:00:00",
          "2020-08-07T00:00:00",
          "2020-08-08T00:00:00",
          "2020-08-09T00:00:00",
          "2020-08-10T00:00:00",
          "2020-08-11T00:00:00",
          "2020-08-12T00:00:00",
          "2020-08-13T00:00:00",
          "2020-08-14T00:00:00",
          "2020-08-15T00:00:00",
          "2020-08-16T00:00:00",
          "2020-08-17T00:00:00",
          "2020-08-18T00:00:00",
          "2020-08-19T00:00:00",
          "2020-08-20T00:00:00",
          "2020-08-21T00:00:00",
          "2020-08-22T00:00:00",
          "2020-08-23T00:00:00",
          "2020-08-24T00:00:00",
          "2020-08-25T00:00:00",
          "2020-08-26T00:00:00",
          "2020-08-27T00:00:00",
          "2020-08-28T00:00:00",
          "2020-08-29T00:00:00",
          "2020-08-30T00:00:00",
          "2020-08-31T00:00:00",
          "2020-09-01T00:00:00",
          "2020-09-02T00:00:00",
          "2020-09-03T00:00:00",
          "2020-09-04T00:00:00",
          "2020-09-05T00:00:00",
          "2020-09-06T00:00:00",
          "2020-09-07T00:00:00",
          "2020-09-08T00:00:00",
          "2020-09-09T00:00:00",
          "2020-09-10T00:00:00",
          "2020-09-11T00:00:00",
          "2020-09-12T00:00:00",
          "2020-09-13T00:00:00",
          "2020-09-14T00:00:00",
          "2020-09-16T00:00:00",
          "2020-09-17T00:00:00",
          "2020-09-18T00:00:00",
          "2020-09-19T00:00:00",
          "2020-09-21T00:00:00",
          "2020-09-22T00:00:00",
          "2020-09-23T00:00:00",
          "2020-09-24T00:00:00",
          "2020-09-25T00:00:00",
          "2020-09-26T00:00:00",
          "2020-09-27T00:00:00",
          "2020-09-28T00:00:00",
          "2020-09-29T00:00:00",
          "2020-09-30T00:00:00",
          "2020-10-01T00:00:00",
          "2020-10-02T00:00:00",
          "2020-10-03T00:00:00",
          "2020-10-04T00:00:00",
          "2020-10-05T00:00:00",
          "2020-10-06T00:00:00",
          "2020-10-07T00:00:00",
          "2020-10-08T00:00:00",
          "2020-10-09T00:00:00",
          "2020-10-13T00:00:00",
          "2020-10-14T00:00:00",
          "2020-10-15T00:00:00",
          "2020-10-17T00:00:00",
          "2020-10-18T00:00:00",
          "2020-10-19T00:00:00",
          "2020-10-20T00:00:00",
          "2020-10-21T00:00:00",
          "2020-10-22T00:00:00",
          "2020-10-23T00:00:00",
          "2020-10-24T00:00:00",
          "2020-10-26T00:00:00",
          "2020-10-27T00:00:00",
          "2020-10-28T00:00:00",
          "2020-10-29T00:00:00",
          "2020-10-30T00:00:00",
          "2020-10-31T00:00:00",
          "2020-11-02T00:00:00",
          "2020-11-03T00:00:00",
          "2020-11-04T00:00:00",
          "2020-11-05T00:00:00",
          "2020-11-06T00:00:00",
          "2020-11-07T00:00:00",
          "2020-11-09T00:00:00",
          "2020-11-10T00:00:00",
          "2020-11-11T00:00:00",
          "2020-11-12T00:00:00",
          "2020-11-15T00:00:00",
          "2020-11-17T00:00:00",
          "2020-11-18T00:00:00",
          "2020-11-19T00:00:00",
          "2020-11-22T00:00:00",
          "2020-11-23T00:00:00",
          "2020-11-25T00:00:00",
          "2020-11-26T00:00:00",
          "2020-11-27T00:00:00",
          "2020-11-28T00:00:00",
          "2020-11-29T00:00:00",
          "2020-11-30T00:00:00",
          "2020-12-01T00:00:00",
          "2020-12-02T00:00:00",
          "2020-12-03T00:00:00",
          "2020-12-04T00:00:00",
          "2020-12-05T00:00:00",
          "2020-12-06T00:00:00",
          "2020-12-07T00:00:00",
          "2020-12-08T00:00:00",
          "2020-12-09T00:00:00",
          "2020-12-11T00:00:00",
          "2020-12-12T00:00:00",
          "2020-12-14T00:00:00",
          "2020-12-15T00:00:00",
          "2020-12-16T00:00:00",
          "2020-12-18T00:00:00",
          "2020-12-19T00:00:00",
          "2020-12-20T00:00:00",
          "2020-12-21T00:00:00",
          "2020-12-24T00:00:00",
          "2020-12-25T00:00:00",
          "2020-12-27T00:00:00",
          "2020-12-31T00:00:00",
          "2021-01-01T00:00:00",
          "2021-01-02T00:00:00",
          "2021-01-04T00:00:00",
          "2021-01-07T00:00:00",
          "2021-01-09T00:00:00",
          "2021-01-10T00:00:00",
          "2021-01-12T00:00:00",
          "2021-01-13T00:00:00",
          "2021-01-14T00:00:00",
          "2021-01-15T00:00:00",
          "2021-01-16T00:00:00",
          "2021-01-18T00:00:00",
          "2021-01-24T00:00:00",
          "2021-01-25T00:00:00",
          "2021-01-26T00:00:00",
          "2021-01-27T00:00:00",
          "2021-01-28T00:00:00",
          "2021-01-29T00:00:00",
          "2021-01-30T00:00:00",
          "2021-01-31T00:00:00",
          "2021-02-02T00:00:00",
          "2021-02-04T00:00:00",
          "2021-02-05T00:00:00",
          "2021-02-06T00:00:00",
          "2021-02-07T00:00:00",
          "2021-02-08T00:00:00",
          "2021-02-09T00:00:00",
          "2021-02-10T00:00:00",
          "2021-02-11T00:00:00",
          "2021-02-12T00:00:00",
          "2021-02-13T00:00:00",
          "2021-02-14T00:00:00",
          "2021-02-15T00:00:00",
          "2021-02-16T00:00:00",
          "2021-02-17T00:00:00",
          "2021-02-18T00:00:00",
          "2021-02-19T00:00:00",
          "2021-02-20T00:00:00",
          "2021-02-21T00:00:00",
          "2021-02-22T00:00:00"
         ],
         "xaxis": "x",
         "y": [
          1,
          13,
          6,
          1,
          10,
          3,
          2,
          2,
          1,
          1,
          1,
          1,
          1,
          1,
          1,
          1,
          4,
          2,
          1,
          1,
          1,
          1,
          2,
          1,
          3,
          1,
          1,
          2,
          2,
          1,
          2,
          1,
          1,
          2,
          4,
          2,
          2,
          3,
          1,
          1,
          1,
          1,
          4,
          6,
          1,
          3,
          4,
          1,
          1,
          5,
          11,
          7,
          15,
          18,
          31,
          10,
          6,
          7,
          15,
          9,
          7,
          5,
          5,
          13,
          6,
          6,
          9,
          12,
          9,
          3,
          7,
          4,
          12,
          10,
          7,
          10,
          6,
          5,
          5,
          67,
          54,
          31,
          11,
          6,
          7,
          8,
          10,
          9,
          8,
          2,
          3,
          3,
          8,
          6,
          2,
          6,
          2,
          3,
          7,
          5,
          1,
          8,
          3,
          5,
          2,
          1,
          6,
          3,
          6,
          4,
          4,
          10,
          1,
          4,
          3,
          2,
          5,
          1,
          4,
          1,
          5,
          3,
          1,
          2,
          3,
          3,
          5,
          1,
          3,
          2,
          1,
          3,
          2,
          2,
          5,
          4,
          2,
          1,
          3,
          1,
          7,
          1,
          2,
          2,
          3,
          3,
          3,
          1,
          1,
          2,
          3,
          2,
          2,
          2,
          2,
          2,
          2,
          9,
          2,
          1,
          1,
          3,
          3,
          2,
          1,
          7,
          4,
          1,
          2,
          2,
          2,
          2,
          3,
          2,
          2,
          2,
          3,
          2,
          4,
          3,
          1,
          1,
          2,
          1,
          1,
          3,
          2,
          1,
          2,
          3,
          3,
          1,
          1,
          2,
          2,
          2,
          2,
          4,
          1,
          2,
          2,
          3,
          1,
          1,
          13,
          8,
          1,
          13,
          7,
          13,
          3,
          11,
          1,
          8,
          2,
          11,
          1,
          2,
          3,
          2,
          1,
          1,
          12
         ],
         "yaxis": "y"
        }
       ],
       "layout": {
        "legend": {
         "tracegroupgap": 0
        },
        "template": {
         "data": {
          "bar": [
           {
            "error_x": {
             "color": "#2a3f5f"
            },
            "error_y": {
             "color": "#2a3f5f"
            },
            "marker": {
             "line": {
              "color": "#E5ECF6",
              "width": 0.5
             }
            },
            "type": "bar"
           }
          ],
          "barpolar": [
           {
            "marker": {
             "line": {
              "color": "#E5ECF6",
              "width": 0.5
             }
            },
            "type": "barpolar"
           }
          ],
          "carpet": [
           {
            "aaxis": {
             "endlinecolor": "#2a3f5f",
             "gridcolor": "white",
             "linecolor": "white",
             "minorgridcolor": "white",
             "startlinecolor": "#2a3f5f"
            },
            "baxis": {
             "endlinecolor": "#2a3f5f",
             "gridcolor": "white",
             "linecolor": "white",
             "minorgridcolor": "white",
             "startlinecolor": "#2a3f5f"
            },
            "type": "carpet"
           }
          ],
          "choropleth": [
           {
            "colorbar": {
             "outlinewidth": 0,
             "ticks": ""
            },
            "type": "choropleth"
           }
          ],
          "contour": [
           {
            "colorbar": {
             "outlinewidth": 0,
             "ticks": ""
            },
            "colorscale": [
             [
              0,
              "#0d0887"
             ],
             [
              0.1111111111111111,
              "#46039f"
             ],
             [
              0.2222222222222222,
              "#7201a8"
             ],
             [
              0.3333333333333333,
              "#9c179e"
             ],
             [
              0.4444444444444444,
              "#bd3786"
             ],
             [
              0.5555555555555556,
              "#d8576b"
             ],
             [
              0.6666666666666666,
              "#ed7953"
             ],
             [
              0.7777777777777778,
              "#fb9f3a"
             ],
             [
              0.8888888888888888,
              "#fdca26"
             ],
             [
              1,
              "#f0f921"
             ]
            ],
            "type": "contour"
           }
          ],
          "contourcarpet": [
           {
            "colorbar": {
             "outlinewidth": 0,
             "ticks": ""
            },
            "type": "contourcarpet"
           }
          ],
          "heatmap": [
           {
            "colorbar": {
             "outlinewidth": 0,
             "ticks": ""
            },
            "colorscale": [
             [
              0,
              "#0d0887"
             ],
             [
              0.1111111111111111,
              "#46039f"
             ],
             [
              0.2222222222222222,
              "#7201a8"
             ],
             [
              0.3333333333333333,
              "#9c179e"
             ],
             [
              0.4444444444444444,
              "#bd3786"
             ],
             [
              0.5555555555555556,
              "#d8576b"
             ],
             [
              0.6666666666666666,
              "#ed7953"
             ],
             [
              0.7777777777777778,
              "#fb9f3a"
             ],
             [
              0.8888888888888888,
              "#fdca26"
             ],
             [
              1,
              "#f0f921"
             ]
            ],
            "type": "heatmap"
           }
          ],
          "heatmapgl": [
           {
            "colorbar": {
             "outlinewidth": 0,
             "ticks": ""
            },
            "colorscale": [
             [
              0,
              "#0d0887"
             ],
             [
              0.1111111111111111,
              "#46039f"
             ],
             [
              0.2222222222222222,
              "#7201a8"
             ],
             [
              0.3333333333333333,
              "#9c179e"
             ],
             [
              0.4444444444444444,
              "#bd3786"
             ],
             [
              0.5555555555555556,
              "#d8576b"
             ],
             [
              0.6666666666666666,
              "#ed7953"
             ],
             [
              0.7777777777777778,
              "#fb9f3a"
             ],
             [
              0.8888888888888888,
              "#fdca26"
             ],
             [
              1,
              "#f0f921"
             ]
            ],
            "type": "heatmapgl"
           }
          ],
          "histogram": [
           {
            "marker": {
             "colorbar": {
              "outlinewidth": 0,
              "ticks": ""
             }
            },
            "type": "histogram"
           }
          ],
          "histogram2d": [
           {
            "colorbar": {
             "outlinewidth": 0,
             "ticks": ""
            },
            "colorscale": [
             [
              0,
              "#0d0887"
             ],
             [
              0.1111111111111111,
              "#46039f"
             ],
             [
              0.2222222222222222,
              "#7201a8"
             ],
             [
              0.3333333333333333,
              "#9c179e"
             ],
             [
              0.4444444444444444,
              "#bd3786"
             ],
             [
              0.5555555555555556,
              "#d8576b"
             ],
             [
              0.6666666666666666,
              "#ed7953"
             ],
             [
              0.7777777777777778,
              "#fb9f3a"
             ],
             [
              0.8888888888888888,
              "#fdca26"
             ],
             [
              1,
              "#f0f921"
             ]
            ],
            "type": "histogram2d"
           }
          ],
          "histogram2dcontour": [
           {
            "colorbar": {
             "outlinewidth": 0,
             "ticks": ""
            },
            "colorscale": [
             [
              0,
              "#0d0887"
             ],
             [
              0.1111111111111111,
              "#46039f"
             ],
             [
              0.2222222222222222,
              "#7201a8"
             ],
             [
              0.3333333333333333,
              "#9c179e"
             ],
             [
              0.4444444444444444,
              "#bd3786"
             ],
             [
              0.5555555555555556,
              "#d8576b"
             ],
             [
              0.6666666666666666,
              "#ed7953"
             ],
             [
              0.7777777777777778,
              "#fb9f3a"
             ],
             [
              0.8888888888888888,
              "#fdca26"
             ],
             [
              1,
              "#f0f921"
             ]
            ],
            "type": "histogram2dcontour"
           }
          ],
          "mesh3d": [
           {
            "colorbar": {
             "outlinewidth": 0,
             "ticks": ""
            },
            "type": "mesh3d"
           }
          ],
          "parcoords": [
           {
            "line": {
             "colorbar": {
              "outlinewidth": 0,
              "ticks": ""
             }
            },
            "type": "parcoords"
           }
          ],
          "pie": [
           {
            "automargin": true,
            "type": "pie"
           }
          ],
          "scatter": [
           {
            "marker": {
             "colorbar": {
              "outlinewidth": 0,
              "ticks": ""
             }
            },
            "type": "scatter"
           }
          ],
          "scatter3d": [
           {
            "line": {
             "colorbar": {
              "outlinewidth": 0,
              "ticks": ""
             }
            },
            "marker": {
             "colorbar": {
              "outlinewidth": 0,
              "ticks": ""
             }
            },
            "type": "scatter3d"
           }
          ],
          "scattercarpet": [
           {
            "marker": {
             "colorbar": {
              "outlinewidth": 0,
              "ticks": ""
             }
            },
            "type": "scattercarpet"
           }
          ],
          "scattergeo": [
           {
            "marker": {
             "colorbar": {
              "outlinewidth": 0,
              "ticks": ""
             }
            },
            "type": "scattergeo"
           }
          ],
          "scattergl": [
           {
            "marker": {
             "colorbar": {
              "outlinewidth": 0,
              "ticks": ""
             }
            },
            "type": "scattergl"
           }
          ],
          "scattermapbox": [
           {
            "marker": {
             "colorbar": {
              "outlinewidth": 0,
              "ticks": ""
             }
            },
            "type": "scattermapbox"
           }
          ],
          "scatterpolar": [
           {
            "marker": {
             "colorbar": {
              "outlinewidth": 0,
              "ticks": ""
             }
            },
            "type": "scatterpolar"
           }
          ],
          "scatterpolargl": [
           {
            "marker": {
             "colorbar": {
              "outlinewidth": 0,
              "ticks": ""
             }
            },
            "type": "scatterpolargl"
           }
          ],
          "scatterternary": [
           {
            "marker": {
             "colorbar": {
              "outlinewidth": 0,
              "ticks": ""
             }
            },
            "type": "scatterternary"
           }
          ],
          "surface": [
           {
            "colorbar": {
             "outlinewidth": 0,
             "ticks": ""
            },
            "colorscale": [
             [
              0,
              "#0d0887"
             ],
             [
              0.1111111111111111,
              "#46039f"
             ],
             [
              0.2222222222222222,
              "#7201a8"
             ],
             [
              0.3333333333333333,
              "#9c179e"
             ],
             [
              0.4444444444444444,
              "#bd3786"
             ],
             [
              0.5555555555555556,
              "#d8576b"
             ],
             [
              0.6666666666666666,
              "#ed7953"
             ],
             [
              0.7777777777777778,
              "#fb9f3a"
             ],
             [
              0.8888888888888888,
              "#fdca26"
             ],
             [
              1,
              "#f0f921"
             ]
            ],
            "type": "surface"
           }
          ],
          "table": [
           {
            "cells": {
             "fill": {
              "color": "#EBF0F8"
             },
             "line": {
              "color": "white"
             }
            },
            "header": {
             "fill": {
              "color": "#C8D4E3"
             },
             "line": {
              "color": "white"
             }
            },
            "type": "table"
           }
          ]
         },
         "layout": {
          "annotationdefaults": {
           "arrowcolor": "#2a3f5f",
           "arrowhead": 0,
           "arrowwidth": 1
          },
          "autotypenumbers": "strict",
          "coloraxis": {
           "colorbar": {
            "outlinewidth": 0,
            "ticks": ""
           }
          },
          "colorscale": {
           "diverging": [
            [
             0,
             "#8e0152"
            ],
            [
             0.1,
             "#c51b7d"
            ],
            [
             0.2,
             "#de77ae"
            ],
            [
             0.3,
             "#f1b6da"
            ],
            [
             0.4,
             "#fde0ef"
            ],
            [
             0.5,
             "#f7f7f7"
            ],
            [
             0.6,
             "#e6f5d0"
            ],
            [
             0.7,
             "#b8e186"
            ],
            [
             0.8,
             "#7fbc41"
            ],
            [
             0.9,
             "#4d9221"
            ],
            [
             1,
             "#276419"
            ]
           ],
           "sequential": [
            [
             0,
             "#0d0887"
            ],
            [
             0.1111111111111111,
             "#46039f"
            ],
            [
             0.2222222222222222,
             "#7201a8"
            ],
            [
             0.3333333333333333,
             "#9c179e"
            ],
            [
             0.4444444444444444,
             "#bd3786"
            ],
            [
             0.5555555555555556,
             "#d8576b"
            ],
            [
             0.6666666666666666,
             "#ed7953"
            ],
            [
             0.7777777777777778,
             "#fb9f3a"
            ],
            [
             0.8888888888888888,
             "#fdca26"
            ],
            [
             1,
             "#f0f921"
            ]
           ],
           "sequentialminus": [
            [
             0,
             "#0d0887"
            ],
            [
             0.1111111111111111,
             "#46039f"
            ],
            [
             0.2222222222222222,
             "#7201a8"
            ],
            [
             0.3333333333333333,
             "#9c179e"
            ],
            [
             0.4444444444444444,
             "#bd3786"
            ],
            [
             0.5555555555555556,
             "#d8576b"
            ],
            [
             0.6666666666666666,
             "#ed7953"
            ],
            [
             0.7777777777777778,
             "#fb9f3a"
            ],
            [
             0.8888888888888888,
             "#fdca26"
            ],
            [
             1,
             "#f0f921"
            ]
           ]
          },
          "colorway": [
           "#636efa",
           "#EF553B",
           "#00cc96",
           "#ab63fa",
           "#FFA15A",
           "#19d3f3",
           "#FF6692",
           "#B6E880",
           "#FF97FF",
           "#FECB52"
          ],
          "font": {
           "color": "#2a3f5f"
          },
          "geo": {
           "bgcolor": "white",
           "lakecolor": "white",
           "landcolor": "#E5ECF6",
           "showlakes": true,
           "showland": true,
           "subunitcolor": "white"
          },
          "hoverlabel": {
           "align": "left"
          },
          "hovermode": "closest",
          "mapbox": {
           "style": "light"
          },
          "paper_bgcolor": "white",
          "plot_bgcolor": "#E5ECF6",
          "polar": {
           "angularaxis": {
            "gridcolor": "white",
            "linecolor": "white",
            "ticks": ""
           },
           "bgcolor": "#E5ECF6",
           "radialaxis": {
            "gridcolor": "white",
            "linecolor": "white",
            "ticks": ""
           }
          },
          "scene": {
           "xaxis": {
            "backgroundcolor": "#E5ECF6",
            "gridcolor": "white",
            "gridwidth": 2,
            "linecolor": "white",
            "showbackground": true,
            "ticks": "",
            "zerolinecolor": "white"
           },
           "yaxis": {
            "backgroundcolor": "#E5ECF6",
            "gridcolor": "white",
            "gridwidth": 2,
            "linecolor": "white",
            "showbackground": true,
            "ticks": "",
            "zerolinecolor": "white"
           },
           "zaxis": {
            "backgroundcolor": "#E5ECF6",
            "gridcolor": "white",
            "gridwidth": 2,
            "linecolor": "white",
            "showbackground": true,
            "ticks": "",
            "zerolinecolor": "white"
           }
          },
          "shapedefaults": {
           "line": {
            "color": "#2a3f5f"
           }
          },
          "ternary": {
           "aaxis": {
            "gridcolor": "white",
            "linecolor": "white",
            "ticks": ""
           },
           "baxis": {
            "gridcolor": "white",
            "linecolor": "white",
            "ticks": ""
           },
           "bgcolor": "#E5ECF6",
           "caxis": {
            "gridcolor": "white",
            "linecolor": "white",
            "ticks": ""
           }
          },
          "title": {
           "x": 0.05
          },
          "xaxis": {
           "automargin": true,
           "gridcolor": "white",
           "linecolor": "white",
           "ticks": "",
           "title": {
            "standoff": 15
           },
           "zerolinecolor": "white",
           "zerolinewidth": 2
          },
          "yaxis": {
           "automargin": true,
           "gridcolor": "white",
           "linecolor": "white",
           "ticks": "",
           "title": {
            "standoff": 15
           },
           "zerolinecolor": "white",
           "zerolinewidth": 2
          }
         }
        },
        "title": {
         "text": "Number of Connections on a Given Date"
        },
        "xaxis": {
         "anchor": "y",
         "domain": [
          0,
          1
         ],
         "title": {
          "text": "Connected On"
         }
        },
        "yaxis": {
         "anchor": "x",
         "domain": [
          0,
          1
         ],
         "title": {
          "text": "Count"
         }
        }
       }
      }
     },
     "metadata": {}
    }
   ],
   "source": [
    "# Create a line plot to visualize the number of connections on a given date\n",
    "fig1 = px.line(df.groupby(by=\"Connected On\").count().reset_index(), \n",
    "               x=\"Connected On\", \n",
    "               y=\"First Name\", \n",
    "               labels={\"First Name\": \"Count\"},\n",
    "               title=\"Number of Connections on a Given Date\")\n",
    "fig1.show()"
   ]
  },
  {
   "cell_type": "markdown",
   "metadata": {
    "papermill": {
     "duration": 0.018483,
     "end_time": "2021-02-24T05:24:24.279013",
     "exception": false,
     "start_time": "2021-02-24T05:24:24.260530",
     "status": "completed"
    },
    "tags": []
   },
   "source": [
    "From the line plot above, we can see that there is a peak in the number of connections per day on 26 August 2020. It also seems that August 2020 is the period when I was the most active on LinkedIn."
   ]
  },
  {
   "cell_type": "markdown",
   "metadata": {
    "papermill": {
     "duration": 0.018386,
     "end_time": "2021-02-24T05:24:24.316159",
     "exception": false,
     "start_time": "2021-02-24T05:24:24.297773",
     "status": "completed"
    },
    "tags": []
   },
   "source": [
    "## Company\n",
    "> Which companies/organizations do the people in my network mainly come from?\n",
    "\n",
    "To answer that question, we need to first group and sort the data based on the companies"
   ]
  },
  {
   "cell_type": "code",
   "execution_count": 8,
   "metadata": {
    "execution": {
     "iopub.execute_input": "2021-02-24T05:24:24.363237Z",
     "iopub.status.busy": "2021-02-24T05:24:24.362169Z",
     "iopub.status.idle": "2021-02-24T05:24:24.379738Z",
     "shell.execute_reply": "2021-02-24T05:24:24.379223Z"
    },
    "papermill": {
     "duration": 0.045075,
     "end_time": "2021-02-24T05:24:24.379897",
     "exception": false,
     "start_time": "2021-02-24T05:24:24.334822",
     "status": "completed"
    },
    "tags": []
   },
   "outputs": [
    {
     "output_type": "execute_result",
     "data": {
      "text/plain": [
       "                                               Company  First Name  Last Name  \\\n",
       "0    The Chinese University of Hong Kong, Shenzhen ...          30         30   \n",
       "1                                The Sparks Foundation          12         12   \n",
       "2         Perhimpunan Pelajar Indonesia (PPI) Tiongkok          12         12   \n",
       "3                                 Towards Data Science          12         12   \n",
       "4                                               Amazon           7          7   \n",
       "..                                                 ...         ...        ...   \n",
       "795              Hangzhou Indonesian Student Community           1          1   \n",
       "796                                Happy Chinese World           1          1   \n",
       "797                                               Heap           1          1   \n",
       "798                                          Helium 10           1          1   \n",
       "799                                         鹏扬基金管理有限公司           1          1   \n",
       "\n",
       "     Position  Connected On  \n",
       "0          30            30  \n",
       "1          12            12  \n",
       "2          12            12  \n",
       "3          12            12  \n",
       "4           7             7  \n",
       "..        ...           ...  \n",
       "795         1             1  \n",
       "796         1             1  \n",
       "797         1             1  \n",
       "798         1             1  \n",
       "799         1             1  \n",
       "\n",
       "[800 rows x 5 columns]"
      ],
      "text/html": "<div>\n<style scoped>\n    .dataframe tbody tr th:only-of-type {\n        vertical-align: middle;\n    }\n\n    .dataframe tbody tr th {\n        vertical-align: top;\n    }\n\n    .dataframe thead th {\n        text-align: right;\n    }\n</style>\n<table border=\"1\" class=\"dataframe\">\n  <thead>\n    <tr style=\"text-align: right;\">\n      <th></th>\n      <th>Company</th>\n      <th>First Name</th>\n      <th>Last Name</th>\n      <th>Position</th>\n      <th>Connected On</th>\n    </tr>\n  </thead>\n  <tbody>\n    <tr>\n      <th>0</th>\n      <td>The Chinese University of Hong Kong, Shenzhen ...</td>\n      <td>30</td>\n      <td>30</td>\n      <td>30</td>\n      <td>30</td>\n    </tr>\n    <tr>\n      <th>1</th>\n      <td>The Sparks Foundation</td>\n      <td>12</td>\n      <td>12</td>\n      <td>12</td>\n      <td>12</td>\n    </tr>\n    <tr>\n      <th>2</th>\n      <td>Perhimpunan Pelajar Indonesia (PPI) Tiongkok</td>\n      <td>12</td>\n      <td>12</td>\n      <td>12</td>\n      <td>12</td>\n    </tr>\n    <tr>\n      <th>3</th>\n      <td>Towards Data Science</td>\n      <td>12</td>\n      <td>12</td>\n      <td>12</td>\n      <td>12</td>\n    </tr>\n    <tr>\n      <th>4</th>\n      <td>Amazon</td>\n      <td>7</td>\n      <td>7</td>\n      <td>7</td>\n      <td>7</td>\n    </tr>\n    <tr>\n      <th>...</th>\n      <td>...</td>\n      <td>...</td>\n      <td>...</td>\n      <td>...</td>\n      <td>...</td>\n    </tr>\n    <tr>\n      <th>795</th>\n      <td>Hangzhou Indonesian Student Community</td>\n      <td>1</td>\n      <td>1</td>\n      <td>1</td>\n      <td>1</td>\n    </tr>\n    <tr>\n      <th>796</th>\n      <td>Happy Chinese World</td>\n      <td>1</td>\n      <td>1</td>\n      <td>1</td>\n      <td>1</td>\n    </tr>\n    <tr>\n      <th>797</th>\n      <td>Heap</td>\n      <td>1</td>\n      <td>1</td>\n      <td>1</td>\n      <td>1</td>\n    </tr>\n    <tr>\n      <th>798</th>\n      <td>Helium 10</td>\n      <td>1</td>\n      <td>1</td>\n      <td>1</td>\n      <td>1</td>\n    </tr>\n    <tr>\n      <th>799</th>\n      <td>鹏扬基金管理有限公司</td>\n      <td>1</td>\n      <td>1</td>\n      <td>1</td>\n      <td>1</td>\n    </tr>\n  </tbody>\n</table>\n<p>800 rows × 5 columns</p>\n</div>"
     },
     "metadata": {},
     "execution_count": 8
    }
   ],
   "source": [
    "# Group and sort the data by company \n",
    "df_by_company = df.groupby(by=\"Company\").count().reset_index().sort_values(by=\"First Name\", ascending=False).reset_index(drop=True)\n",
    "df_by_company"
   ]
  },
  {
   "cell_type": "markdown",
   "metadata": {
    "papermill": {
     "duration": 0.019207,
     "end_time": "2021-02-24T05:24:24.418609",
     "exception": false,
     "start_time": "2021-02-24T05:24:24.399402",
     "status": "completed"
    },
    "tags": []
   },
   "source": [
    "Now that we have our data grouped and sorted based on the companies, we can visualize it using Plotly's bar plot"
   ]
  },
  {
   "cell_type": "code",
   "execution_count": 9,
   "metadata": {
    "execution": {
     "iopub.execute_input": "2021-02-24T05:24:24.473425Z",
     "iopub.status.busy": "2021-02-24T05:24:24.472440Z",
     "iopub.status.idle": "2021-02-24T05:24:24.541514Z",
     "shell.execute_reply": "2021-02-24T05:24:24.540858Z"
    },
    "papermill": {
     "duration": 0.103194,
     "end_time": "2021-02-24T05:24:24.541659",
     "exception": false,
     "start_time": "2021-02-24T05:24:24.438465",
     "status": "completed"
    },
    "tags": []
   },
   "outputs": [
    {
     "output_type": "display_data",
     "data": {
      "application/vnd.plotly.v1+json": {
       "config": {
        "plotlyServerURL": "https://plotly.com"
       },
       "data": [
        {
         "alignmentgroup": "True",
         "hovertemplate": "Company=%{x}<br>Count=%{y}<extra></extra>",
         "legendgroup": "",
         "marker": {
          "color": "#636efa"
         },
         "name": "",
         "offsetgroup": "",
         "orientation": "v",
         "showlegend": false,
         "textposition": "auto",
         "type": "bar",
         "x": [
          "The Chinese University of Hong Kong, Shenzhen 香港中文大学（深圳）",
          "The Sparks Foundation",
          "Perhimpunan Pelajar Indonesia (PPI) Tiongkok",
          "Towards Data Science",
          "Amazon",
          "PPIT Shenzhen",
          "Microsoft",
          "Flatiron School",
          "Google",
          "Infosys",
          "Packt",
          "iNeuron.ai",
          "Self-employed",
          "Tata Consultancy Services",
          "Oracle",
          "ByteDance",
          "Cognizant",
          "CoLearn ",
          "Tencent",
          "Huawei"
         ],
         "xaxis": "x",
         "y": [
          30,
          12,
          12,
          12,
          7,
          7,
          5,
          4,
          4,
          4,
          4,
          4,
          4,
          3,
          3,
          3,
          3,
          3,
          3,
          3
         ],
         "yaxis": "y"
        }
       ],
       "layout": {
        "barmode": "relative",
        "legend": {
         "tracegroupgap": 0
        },
        "template": {
         "data": {
          "bar": [
           {
            "error_x": {
             "color": "#2a3f5f"
            },
            "error_y": {
             "color": "#2a3f5f"
            },
            "marker": {
             "line": {
              "color": "#E5ECF6",
              "width": 0.5
             }
            },
            "type": "bar"
           }
          ],
          "barpolar": [
           {
            "marker": {
             "line": {
              "color": "#E5ECF6",
              "width": 0.5
             }
            },
            "type": "barpolar"
           }
          ],
          "carpet": [
           {
            "aaxis": {
             "endlinecolor": "#2a3f5f",
             "gridcolor": "white",
             "linecolor": "white",
             "minorgridcolor": "white",
             "startlinecolor": "#2a3f5f"
            },
            "baxis": {
             "endlinecolor": "#2a3f5f",
             "gridcolor": "white",
             "linecolor": "white",
             "minorgridcolor": "white",
             "startlinecolor": "#2a3f5f"
            },
            "type": "carpet"
           }
          ],
          "choropleth": [
           {
            "colorbar": {
             "outlinewidth": 0,
             "ticks": ""
            },
            "type": "choropleth"
           }
          ],
          "contour": [
           {
            "colorbar": {
             "outlinewidth": 0,
             "ticks": ""
            },
            "colorscale": [
             [
              0,
              "#0d0887"
             ],
             [
              0.1111111111111111,
              "#46039f"
             ],
             [
              0.2222222222222222,
              "#7201a8"
             ],
             [
              0.3333333333333333,
              "#9c179e"
             ],
             [
              0.4444444444444444,
              "#bd3786"
             ],
             [
              0.5555555555555556,
              "#d8576b"
             ],
             [
              0.6666666666666666,
              "#ed7953"
             ],
             [
              0.7777777777777778,
              "#fb9f3a"
             ],
             [
              0.8888888888888888,
              "#fdca26"
             ],
             [
              1,
              "#f0f921"
             ]
            ],
            "type": "contour"
           }
          ],
          "contourcarpet": [
           {
            "colorbar": {
             "outlinewidth": 0,
             "ticks": ""
            },
            "type": "contourcarpet"
           }
          ],
          "heatmap": [
           {
            "colorbar": {
             "outlinewidth": 0,
             "ticks": ""
            },
            "colorscale": [
             [
              0,
              "#0d0887"
             ],
             [
              0.1111111111111111,
              "#46039f"
             ],
             [
              0.2222222222222222,
              "#7201a8"
             ],
             [
              0.3333333333333333,
              "#9c179e"
             ],
             [
              0.4444444444444444,
              "#bd3786"
             ],
             [
              0.5555555555555556,
              "#d8576b"
             ],
             [
              0.6666666666666666,
              "#ed7953"
             ],
             [
              0.7777777777777778,
              "#fb9f3a"
             ],
             [
              0.8888888888888888,
              "#fdca26"
             ],
             [
              1,
              "#f0f921"
             ]
            ],
            "type": "heatmap"
           }
          ],
          "heatmapgl": [
           {
            "colorbar": {
             "outlinewidth": 0,
             "ticks": ""
            },
            "colorscale": [
             [
              0,
              "#0d0887"
             ],
             [
              0.1111111111111111,
              "#46039f"
             ],
             [
              0.2222222222222222,
              "#7201a8"
             ],
             [
              0.3333333333333333,
              "#9c179e"
             ],
             [
              0.4444444444444444,
              "#bd3786"
             ],
             [
              0.5555555555555556,
              "#d8576b"
             ],
             [
              0.6666666666666666,
              "#ed7953"
             ],
             [
              0.7777777777777778,
              "#fb9f3a"
             ],
             [
              0.8888888888888888,
              "#fdca26"
             ],
             [
              1,
              "#f0f921"
             ]
            ],
            "type": "heatmapgl"
           }
          ],
          "histogram": [
           {
            "marker": {
             "colorbar": {
              "outlinewidth": 0,
              "ticks": ""
             }
            },
            "type": "histogram"
           }
          ],
          "histogram2d": [
           {
            "colorbar": {
             "outlinewidth": 0,
             "ticks": ""
            },
            "colorscale": [
             [
              0,
              "#0d0887"
             ],
             [
              0.1111111111111111,
              "#46039f"
             ],
             [
              0.2222222222222222,
              "#7201a8"
             ],
             [
              0.3333333333333333,
              "#9c179e"
             ],
             [
              0.4444444444444444,
              "#bd3786"
             ],
             [
              0.5555555555555556,
              "#d8576b"
             ],
             [
              0.6666666666666666,
              "#ed7953"
             ],
             [
              0.7777777777777778,
              "#fb9f3a"
             ],
             [
              0.8888888888888888,
              "#fdca26"
             ],
             [
              1,
              "#f0f921"
             ]
            ],
            "type": "histogram2d"
           }
          ],
          "histogram2dcontour": [
           {
            "colorbar": {
             "outlinewidth": 0,
             "ticks": ""
            },
            "colorscale": [
             [
              0,
              "#0d0887"
             ],
             [
              0.1111111111111111,
              "#46039f"
             ],
             [
              0.2222222222222222,
              "#7201a8"
             ],
             [
              0.3333333333333333,
              "#9c179e"
             ],
             [
              0.4444444444444444,
              "#bd3786"
             ],
             [
              0.5555555555555556,
              "#d8576b"
             ],
             [
              0.6666666666666666,
              "#ed7953"
             ],
             [
              0.7777777777777778,
              "#fb9f3a"
             ],
             [
              0.8888888888888888,
              "#fdca26"
             ],
             [
              1,
              "#f0f921"
             ]
            ],
            "type": "histogram2dcontour"
           }
          ],
          "mesh3d": [
           {
            "colorbar": {
             "outlinewidth": 0,
             "ticks": ""
            },
            "type": "mesh3d"
           }
          ],
          "parcoords": [
           {
            "line": {
             "colorbar": {
              "outlinewidth": 0,
              "ticks": ""
             }
            },
            "type": "parcoords"
           }
          ],
          "pie": [
           {
            "automargin": true,
            "type": "pie"
           }
          ],
          "scatter": [
           {
            "marker": {
             "colorbar": {
              "outlinewidth": 0,
              "ticks": ""
             }
            },
            "type": "scatter"
           }
          ],
          "scatter3d": [
           {
            "line": {
             "colorbar": {
              "outlinewidth": 0,
              "ticks": ""
             }
            },
            "marker": {
             "colorbar": {
              "outlinewidth": 0,
              "ticks": ""
             }
            },
            "type": "scatter3d"
           }
          ],
          "scattercarpet": [
           {
            "marker": {
             "colorbar": {
              "outlinewidth": 0,
              "ticks": ""
             }
            },
            "type": "scattercarpet"
           }
          ],
          "scattergeo": [
           {
            "marker": {
             "colorbar": {
              "outlinewidth": 0,
              "ticks": ""
             }
            },
            "type": "scattergeo"
           }
          ],
          "scattergl": [
           {
            "marker": {
             "colorbar": {
              "outlinewidth": 0,
              "ticks": ""
             }
            },
            "type": "scattergl"
           }
          ],
          "scattermapbox": [
           {
            "marker": {
             "colorbar": {
              "outlinewidth": 0,
              "ticks": ""
             }
            },
            "type": "scattermapbox"
           }
          ],
          "scatterpolar": [
           {
            "marker": {
             "colorbar": {
              "outlinewidth": 0,
              "ticks": ""
             }
            },
            "type": "scatterpolar"
           }
          ],
          "scatterpolargl": [
           {
            "marker": {
             "colorbar": {
              "outlinewidth": 0,
              "ticks": ""
             }
            },
            "type": "scatterpolargl"
           }
          ],
          "scatterternary": [
           {
            "marker": {
             "colorbar": {
              "outlinewidth": 0,
              "ticks": ""
             }
            },
            "type": "scatterternary"
           }
          ],
          "surface": [
           {
            "colorbar": {
             "outlinewidth": 0,
             "ticks": ""
            },
            "colorscale": [
             [
              0,
              "#0d0887"
             ],
             [
              0.1111111111111111,
              "#46039f"
             ],
             [
              0.2222222222222222,
              "#7201a8"
             ],
             [
              0.3333333333333333,
              "#9c179e"
             ],
             [
              0.4444444444444444,
              "#bd3786"
             ],
             [
              0.5555555555555556,
              "#d8576b"
             ],
             [
              0.6666666666666666,
              "#ed7953"
             ],
             [
              0.7777777777777778,
              "#fb9f3a"
             ],
             [
              0.8888888888888888,
              "#fdca26"
             ],
             [
              1,
              "#f0f921"
             ]
            ],
            "type": "surface"
           }
          ],
          "table": [
           {
            "cells": {
             "fill": {
              "color": "#EBF0F8"
             },
             "line": {
              "color": "white"
             }
            },
            "header": {
             "fill": {
              "color": "#C8D4E3"
             },
             "line": {
              "color": "white"
             }
            },
            "type": "table"
           }
          ]
         },
         "layout": {
          "annotationdefaults": {
           "arrowcolor": "#2a3f5f",
           "arrowhead": 0,
           "arrowwidth": 1
          },
          "autotypenumbers": "strict",
          "coloraxis": {
           "colorbar": {
            "outlinewidth": 0,
            "ticks": ""
           }
          },
          "colorscale": {
           "diverging": [
            [
             0,
             "#8e0152"
            ],
            [
             0.1,
             "#c51b7d"
            ],
            [
             0.2,
             "#de77ae"
            ],
            [
             0.3,
             "#f1b6da"
            ],
            [
             0.4,
             "#fde0ef"
            ],
            [
             0.5,
             "#f7f7f7"
            ],
            [
             0.6,
             "#e6f5d0"
            ],
            [
             0.7,
             "#b8e186"
            ],
            [
             0.8,
             "#7fbc41"
            ],
            [
             0.9,
             "#4d9221"
            ],
            [
             1,
             "#276419"
            ]
           ],
           "sequential": [
            [
             0,
             "#0d0887"
            ],
            [
             0.1111111111111111,
             "#46039f"
            ],
            [
             0.2222222222222222,
             "#7201a8"
            ],
            [
             0.3333333333333333,
             "#9c179e"
            ],
            [
             0.4444444444444444,
             "#bd3786"
            ],
            [
             0.5555555555555556,
             "#d8576b"
            ],
            [
             0.6666666666666666,
             "#ed7953"
            ],
            [
             0.7777777777777778,
             "#fb9f3a"
            ],
            [
             0.8888888888888888,
             "#fdca26"
            ],
            [
             1,
             "#f0f921"
            ]
           ],
           "sequentialminus": [
            [
             0,
             "#0d0887"
            ],
            [
             0.1111111111111111,
             "#46039f"
            ],
            [
             0.2222222222222222,
             "#7201a8"
            ],
            [
             0.3333333333333333,
             "#9c179e"
            ],
            [
             0.4444444444444444,
             "#bd3786"
            ],
            [
             0.5555555555555556,
             "#d8576b"
            ],
            [
             0.6666666666666666,
             "#ed7953"
            ],
            [
             0.7777777777777778,
             "#fb9f3a"
            ],
            [
             0.8888888888888888,
             "#fdca26"
            ],
            [
             1,
             "#f0f921"
            ]
           ]
          },
          "colorway": [
           "#636efa",
           "#EF553B",
           "#00cc96",
           "#ab63fa",
           "#FFA15A",
           "#19d3f3",
           "#FF6692",
           "#B6E880",
           "#FF97FF",
           "#FECB52"
          ],
          "font": {
           "color": "#2a3f5f"
          },
          "geo": {
           "bgcolor": "white",
           "lakecolor": "white",
           "landcolor": "#E5ECF6",
           "showlakes": true,
           "showland": true,
           "subunitcolor": "white"
          },
          "hoverlabel": {
           "align": "left"
          },
          "hovermode": "closest",
          "mapbox": {
           "style": "light"
          },
          "paper_bgcolor": "white",
          "plot_bgcolor": "#E5ECF6",
          "polar": {
           "angularaxis": {
            "gridcolor": "white",
            "linecolor": "white",
            "ticks": ""
           },
           "bgcolor": "#E5ECF6",
           "radialaxis": {
            "gridcolor": "white",
            "linecolor": "white",
            "ticks": ""
           }
          },
          "scene": {
           "xaxis": {
            "backgroundcolor": "#E5ECF6",
            "gridcolor": "white",
            "gridwidth": 2,
            "linecolor": "white",
            "showbackground": true,
            "ticks": "",
            "zerolinecolor": "white"
           },
           "yaxis": {
            "backgroundcolor": "#E5ECF6",
            "gridcolor": "white",
            "gridwidth": 2,
            "linecolor": "white",
            "showbackground": true,
            "ticks": "",
            "zerolinecolor": "white"
           },
           "zaxis": {
            "backgroundcolor": "#E5ECF6",
            "gridcolor": "white",
            "gridwidth": 2,
            "linecolor": "white",
            "showbackground": true,
            "ticks": "",
            "zerolinecolor": "white"
           }
          },
          "shapedefaults": {
           "line": {
            "color": "#2a3f5f"
           }
          },
          "ternary": {
           "aaxis": {
            "gridcolor": "white",
            "linecolor": "white",
            "ticks": ""
           },
           "baxis": {
            "gridcolor": "white",
            "linecolor": "white",
            "ticks": ""
           },
           "bgcolor": "#E5ECF6",
           "caxis": {
            "gridcolor": "white",
            "linecolor": "white",
            "ticks": ""
           }
          },
          "title": {
           "x": 0.05
          },
          "xaxis": {
           "automargin": true,
           "gridcolor": "white",
           "linecolor": "white",
           "ticks": "",
           "title": {
            "standoff": 15
           },
           "zerolinecolor": "white",
           "zerolinewidth": 2
          },
          "yaxis": {
           "automargin": true,
           "gridcolor": "white",
           "linecolor": "white",
           "ticks": "",
           "title": {
            "standoff": 15
           },
           "zerolinecolor": "white",
           "zerolinewidth": 2
          }
         }
        },
        "title": {
         "text": "Top Companies/Organizations in my Network"
        },
        "xaxis": {
         "anchor": "y",
         "domain": [
          0,
          1
         ],
         "title": {
          "text": "Company"
         }
        },
        "yaxis": {
         "anchor": "x",
         "domain": [
          0,
          1
         ],
         "title": {
          "text": "Count"
         }
        }
       }
      }
     },
     "metadata": {}
    }
   ],
   "source": [
    "# Create a bar plot for the top companies\n",
    "fig2 = px.bar(df_by_company[:20],\n",
    "              x=\"Company\",\n",
    "              y=\"First Name\",\n",
    "              labels={\"First Name\": \"Count\"},\n",
    "              title=\"Top Companies/Organizations in my Network\")\n",
    "fig2.show()"
   ]
  },
  {
   "cell_type": "markdown",
   "metadata": {
    "papermill": {
     "duration": 0.019808,
     "end_time": "2021-02-24T05:24:24.581587",
     "exception": false,
     "start_time": "2021-02-24T05:24:24.561779",
     "status": "completed"
    },
    "tags": []
   },
   "source": [
    "It worked just fine, but perhaps Plotly's [treemap](https://plotly.com/python/treemaps/) will do a better job in visualizing the companies in this case. "
   ]
  },
  {
   "cell_type": "code",
   "execution_count": 8,
   "metadata": {
    "execution": {
     "iopub.execute_input": "2021-02-24T05:24:24.641039Z",
     "iopub.status.busy": "2021-02-24T05:24:24.639933Z",
     "iopub.status.idle": "2021-02-24T05:24:24.777893Z",
     "shell.execute_reply": "2021-02-24T05:24:24.777302Z"
    },
    "papermill": {
     "duration": 0.17639,
     "end_time": "2021-02-24T05:24:24.778083",
     "exception": false,
     "start_time": "2021-02-24T05:24:24.601693",
     "status": "completed"
    },
    "tags": []
   },
   "outputs": [
    {
     "data": {
      "text/html": [
       "<div>                            <div id=\"1fda16f1-5b43-4822-b59e-52a72e0ed563\" class=\"plotly-graph-div\" style=\"height:525px; width:100%;\"></div>            <script type=\"text/javascript\">                require([\"plotly\"], function(Plotly) {                    window.PLOTLYENV=window.PLOTLYENV || {};                                    if (document.getElementById(\"1fda16f1-5b43-4822-b59e-52a72e0ed563\")) {                    Plotly.newPlot(                        \"1fda16f1-5b43-4822-b59e-52a72e0ed563\",                        [{\"branchvalues\": \"total\", \"domain\": {\"x\": [0.0, 1.0], \"y\": [0.0, 1.0]}, \"hovertemplate\": \"labels=%{label}<br>Count=%{value}<br>parent=%{parent}<br>id=%{id}<extra></extra>\", \"ids\": [\" /1\", \"Rensselaer Polytechnic Institute/1\", \"RevealApp/1\", \"Rightpoint India/1\", \"Rivian/1\", \"Robart Experience /1\", \"Robi Axiata Limited/1\", \"Robokalam/1\", \"Roche/1\", \"RouteOne/1\", \"Rovae inc./1\", \"S2HMinds.in/1\", \"SITEMARK/1\", \"SPIE Student Chapter @Acharya Narendra Dev College(University Of Delhi)/1\", \"SPKC/1\", \"Sambal Malaysian Restaurant/1\", \"Samsung SDS America/1\", \"Scavetta Academy/1\", \"Scooby AI/1\", \"Scotiabank/1\", \"Scouts Consulting Group LLC/1\", \"Scribd/1\", \"Script Winter of Code/1\", \"Seaforth Analytical Services Limited/1\", \"Self employed/1\", \"Softfir Capital\\u8f6f\\u6749\\u8d44\\u672c/1\", \"Sophos/1\", \"Southern University of Science & Technology/1\", \"Space Telescope Science Institute/1\", \"Sparkbox/1\", \"Spears School of Business - Oklahoma State University/1\", \"Spoon Consulting/1\", \"Sportiv/1\", \"Springboard/1\", \"SquareOps/1\", \"Stanford University/1\", \"Star Health and Allied Insurance Co. Ltd/1\", \"StartUs Insights/1\", \"StatQuest with Josh Starmer/1\", \"Statistics Netherlands (CBS)/1\", \"Stealth Startup/1\", \"Strategy&/1\", \"Strome College of Business/1\", \"Accenture/2\", \"Amazon Web Services (AWS)/2\", \"Apple/2\", \"Bangkit Academy led by Google, Tokopedia, Gojek, & Traveloka/2\", \"Bloomberg LP/2\", \"BlueCross BlueShield of Western New York/2\", \"CIDSLS /2\", \"DBS Bank/2\", \"Data Glacier/2\", \"Deloitte Consulting/2\", \"Facebook/2\", \"Gojek/2\", \"HCL Technologies/2\", \"HP/2\", \"IRI/2\", \"Internshala/2\", \"JULO/2\", \"Levi Strauss & Co./2\", \"NVIDIA/2\", \"PPSD Surabaya/2\", \"PerceptiLabs/2\", \"Pyramid Analytics/2\", \"Robofied/2\", \"SAP/2\", \"Self Employed/2\", \"Shopee/2\", \"Slice/2\", \"The Chinese University of Hong Kong/2\", \"Veri Bilimi Okulu/2\", \"Wardaya College/2\", \"ZS/2\", \"eBay/2\", \"ByteDance/3\", \"Chegg Inc./3\", \"CoLearn /3\", \"Cognizant/3\", \"Confidential /3\", \"Huawei/3\", \"IBM/3\", \"Oracle/3\", \"Tata Consultancy Services/3\", \"Tencent/3\", \"Workera/3\", \"\\u6df1\\u5733\\u5e02\\u5927\\u6570\\u636e\\u7814\\u7a76\\u9662 Shenzhen Research Institute of Big Data/3\", \"Flatiron School/4\", \"Google/4\", \"Infosys/4\", \"Packt/4\", \"Self-employed/4\", \"iNeuron.ai/4\", \"Microsoft/5\", \"Amazon/7\", \"PPIT Shenzhen/7\", \"Perhimpunan Pelajar Indonesia (PPI) Tiongkok/12\", \"The Sparks Foundation/12\", \"Towards Data Science/12\", \"The Chinese University of Hong Kong, Shenzhen \\u9999\\u6e2f\\u4e2d\\u6587\\u5927\\u5b66\\uff08\\u6df1\\u5733\\uff09/30\", \" \", \"Accenture\", \"Amazon\", \"Amazon Web Services (AWS)\", \"Apple\", \"Bangkit Academy led by Google, Tokopedia, Gojek, & Traveloka\", \"Bloomberg LP\", \"BlueCross BlueShield of Western New York\", \"ByteDance\", \"CIDSLS \", \"Chegg Inc.\", \"CoLearn \", \"Cognizant\", \"Confidential \", \"DBS Bank\", \"Data Glacier\", \"Deloitte Consulting\", \"Facebook\", \"Flatiron School\", \"Gojek\", \"Google\", \"HCL Technologies\", \"HP\", \"Huawei\", \"IBM\", \"IRI\", \"Infosys\", \"Internshala\", \"JULO\", \"Levi Strauss & Co.\", \"Microsoft\", \"NVIDIA\", \"Oracle\", \"PPIT Shenzhen\", \"PPSD Surabaya\", \"Packt\", \"PerceptiLabs\", \"Perhimpunan Pelajar Indonesia (PPI) Tiongkok\", \"Pyramid Analytics\", \"Rensselaer Polytechnic Institute\", \"RevealApp\", \"Rightpoint India\", \"Rivian\", \"Robart Experience \", \"Robi Axiata Limited\", \"Robofied\", \"Robokalam\", \"Roche\", \"RouteOne\", \"Rovae inc.\", \"S2HMinds.in\", \"SAP\", \"SITEMARK\", \"SPIE Student Chapter @Acharya Narendra Dev College(University Of Delhi)\", \"SPKC\", \"Sambal Malaysian Restaurant\", \"Samsung SDS America\", \"Scavetta Academy\", \"Scooby AI\", \"Scotiabank\", \"Scouts Consulting Group LLC\", \"Scribd\", \"Script Winter of Code\", \"Seaforth Analytical Services Limited\", \"Self Employed\", \"Self employed\", \"Self-employed\", \"Shopee\", \"Slice\", \"Softfir Capital\\u8f6f\\u6749\\u8d44\\u672c\", \"Sophos\", \"Southern University of Science & Technology\", \"Space Telescope Science Institute\", \"Sparkbox\", \"Spears School of Business - Oklahoma State University\", \"Spoon Consulting\", \"Sportiv\", \"Springboard\", \"SquareOps\", \"Stanford University\", \"Star Health and Allied Insurance Co. Ltd\", \"StartUs Insights\", \"StatQuest with Josh Starmer\", \"Statistics Netherlands (CBS)\", \"Stealth Startup\", \"Strategy&\", \"Strome College of Business\", \"Tata Consultancy Services\", \"Tencent\", \"The Chinese University of Hong Kong\", \"The Chinese University of Hong Kong, Shenzhen \\u9999\\u6e2f\\u4e2d\\u6587\\u5927\\u5b66\\uff08\\u6df1\\u5733\\uff09\", \"The Sparks Foundation\", \"Towards Data Science\", \"Veri Bilimi Okulu\", \"Wardaya College\", \"Workera\", \"ZS\", \"eBay\", \"iNeuron.ai\", \"\\u6df1\\u5733\\u5e02\\u5927\\u6570\\u636e\\u7814\\u7a76\\u9662 Shenzhen Research Institute of Big Data\"], \"labels\": [\"1\", \"1\", \"1\", \"1\", \"1\", \"1\", \"1\", \"1\", \"1\", \"1\", \"1\", \"1\", \"1\", \"1\", \"1\", \"1\", \"1\", \"1\", \"1\", \"1\", \"1\", \"1\", \"1\", \"1\", \"1\", \"1\", \"1\", \"1\", \"1\", \"1\", \"1\", \"1\", \"1\", \"1\", \"1\", \"1\", \"1\", \"1\", \"1\", \"1\", \"1\", \"1\", \"1\", \"2\", \"2\", \"2\", \"2\", \"2\", \"2\", \"2\", \"2\", \"2\", \"2\", \"2\", \"2\", \"2\", \"2\", \"2\", \"2\", \"2\", \"2\", \"2\", \"2\", \"2\", \"2\", \"2\", \"2\", \"2\", \"2\", \"2\", \"2\", \"2\", \"2\", \"2\", \"2\", \"3\", \"3\", \"3\", \"3\", \"3\", \"3\", \"3\", \"3\", \"3\", \"3\", \"3\", \"3\", \"4\", \"4\", \"4\", \"4\", \"4\", \"4\", \"5\", \"7\", \"7\", \"12\", \"12\", \"12\", \"30\", \" \", \"Accenture\", \"Amazon\", \"Amazon Web Services (AWS)\", \"Apple\", \"Bangkit Academy led by Google, Tokopedia, Gojek, & Traveloka\", \"Bloomberg LP\", \"BlueCross BlueShield of Western New York\", \"ByteDance\", \"CIDSLS \", \"Chegg Inc.\", \"CoLearn \", \"Cognizant\", \"Confidential \", \"DBS Bank\", \"Data Glacier\", \"Deloitte Consulting\", \"Facebook\", \"Flatiron School\", \"Gojek\", \"Google\", \"HCL Technologies\", \"HP\", \"Huawei\", \"IBM\", \"IRI\", \"Infosys\", \"Internshala\", \"JULO\", \"Levi Strauss & Co.\", \"Microsoft\", \"NVIDIA\", \"Oracle\", \"PPIT Shenzhen\", \"PPSD Surabaya\", \"Packt\", \"PerceptiLabs\", \"Perhimpunan Pelajar Indonesia (PPI) Tiongkok\", \"Pyramid Analytics\", \"Rensselaer Polytechnic Institute\", \"RevealApp\", \"Rightpoint India\", \"Rivian\", \"Robart Experience \", \"Robi Axiata Limited\", \"Robofied\", \"Robokalam\", \"Roche\", \"RouteOne\", \"Rovae inc.\", \"S2HMinds.in\", \"SAP\", \"SITEMARK\", \"SPIE Student Chapter @Acharya Narendra Dev College(University Of Delhi)\", \"SPKC\", \"Sambal Malaysian Restaurant\", \"Samsung SDS America\", \"Scavetta Academy\", \"Scooby AI\", \"Scotiabank\", \"Scouts Consulting Group LLC\", \"Scribd\", \"Script Winter of Code\", \"Seaforth Analytical Services Limited\", \"Self Employed\", \"Self employed\", \"Self-employed\", \"Shopee\", \"Slice\", \"Softfir Capital\\u8f6f\\u6749\\u8d44\\u672c\", \"Sophos\", \"Southern University of Science & Technology\", \"Space Telescope Science Institute\", \"Sparkbox\", \"Spears School of Business - Oklahoma State University\", \"Spoon Consulting\", \"Sportiv\", \"Springboard\", \"SquareOps\", \"Stanford University\", \"Star Health and Allied Insurance Co. Ltd\", \"StartUs Insights\", \"StatQuest with Josh Starmer\", \"Statistics Netherlands (CBS)\", \"Stealth Startup\", \"Strategy&\", \"Strome College of Business\", \"Tata Consultancy Services\", \"Tencent\", \"The Chinese University of Hong Kong\", \"The Chinese University of Hong Kong, Shenzhen \\u9999\\u6e2f\\u4e2d\\u6587\\u5927\\u5b66\\uff08\\u6df1\\u5733\\uff09\", \"The Sparks Foundation\", \"Towards Data Science\", \"Veri Bilimi Okulu\", \"Wardaya College\", \"Workera\", \"ZS\", \"eBay\", \"iNeuron.ai\", \"\\u6df1\\u5733\\u5e02\\u5927\\u6570\\u636e\\u7814\\u7a76\\u9662 Shenzhen Research Institute of Big Data\"], \"name\": \"\", \"parents\": [\" \", \"Rensselaer Polytechnic Institute\", \"RevealApp\", \"Rightpoint India\", \"Rivian\", \"Robart Experience \", \"Robi Axiata Limited\", \"Robokalam\", \"Roche\", \"RouteOne\", \"Rovae inc.\", \"S2HMinds.in\", \"SITEMARK\", \"SPIE Student Chapter @Acharya Narendra Dev College(University Of Delhi)\", \"SPKC\", \"Sambal Malaysian Restaurant\", \"Samsung SDS America\", \"Scavetta Academy\", \"Scooby AI\", \"Scotiabank\", \"Scouts Consulting Group LLC\", \"Scribd\", \"Script Winter of Code\", \"Seaforth Analytical Services Limited\", \"Self employed\", \"Softfir Capital\\u8f6f\\u6749\\u8d44\\u672c\", \"Sophos\", \"Southern University of Science & Technology\", \"Space Telescope Science Institute\", \"Sparkbox\", \"Spears School of Business - Oklahoma State University\", \"Spoon Consulting\", \"Sportiv\", \"Springboard\", \"SquareOps\", \"Stanford University\", \"Star Health and Allied Insurance Co. Ltd\", \"StartUs Insights\", \"StatQuest with Josh Starmer\", \"Statistics Netherlands (CBS)\", \"Stealth Startup\", \"Strategy&\", \"Strome College of Business\", \"Accenture\", \"Amazon Web Services (AWS)\", \"Apple\", \"Bangkit Academy led by Google, Tokopedia, Gojek, & Traveloka\", \"Bloomberg LP\", \"BlueCross BlueShield of Western New York\", \"CIDSLS \", \"DBS Bank\", \"Data Glacier\", \"Deloitte Consulting\", \"Facebook\", \"Gojek\", \"HCL Technologies\", \"HP\", \"IRI\", \"Internshala\", \"JULO\", \"Levi Strauss & Co.\", \"NVIDIA\", \"PPSD Surabaya\", \"PerceptiLabs\", \"Pyramid Analytics\", \"Robofied\", \"SAP\", \"Self Employed\", \"Shopee\", \"Slice\", \"The Chinese University of Hong Kong\", \"Veri Bilimi Okulu\", \"Wardaya College\", \"ZS\", \"eBay\", \"ByteDance\", \"Chegg Inc.\", \"CoLearn \", \"Cognizant\", \"Confidential \", \"Huawei\", \"IBM\", \"Oracle\", \"Tata Consultancy Services\", \"Tencent\", \"Workera\", \"\\u6df1\\u5733\\u5e02\\u5927\\u6570\\u636e\\u7814\\u7a76\\u9662 Shenzhen Research Institute of Big Data\", \"Flatiron School\", \"Google\", \"Infosys\", \"Packt\", \"Self-employed\", \"iNeuron.ai\", \"Microsoft\", \"Amazon\", \"PPIT Shenzhen\", \"Perhimpunan Pelajar Indonesia (PPI) Tiongkok\", \"The Sparks Foundation\", \"Towards Data Science\", \"The Chinese University of Hong Kong, Shenzhen \\u9999\\u6e2f\\u4e2d\\u6587\\u5927\\u5b66\\uff08\\u6df1\\u5733\\uff09\", \"\", \"\", \"\", \"\", \"\", \"\", \"\", \"\", \"\", \"\", \"\", \"\", \"\", \"\", \"\", \"\", \"\", \"\", \"\", \"\", \"\", \"\", \"\", \"\", \"\", \"\", \"\", \"\", \"\", \"\", \"\", \"\", \"\", \"\", \"\", \"\", \"\", \"\", \"\", \"\", \"\", \"\", \"\", \"\", \"\", \"\", \"\", \"\", \"\", \"\", \"\", \"\", \"\", \"\", \"\", \"\", \"\", \"\", \"\", \"\", \"\", \"\", \"\", \"\", \"\", \"\", \"\", \"\", \"\", \"\", \"\", \"\", \"\", \"\", \"\", \"\", \"\", \"\", \"\", \"\", \"\", \"\", \"\", \"\", \"\", \"\", \"\", \"\", \"\", \"\", \"\", \"\", \"\", \"\", \"\", \"\", \"\", \"\", \"\", \"\"], \"type\": \"treemap\", \"values\": [1, 1, 1, 1, 1, 1, 1, 1, 1, 1, 1, 1, 1, 1, 1, 1, 1, 1, 1, 1, 1, 1, 1, 1, 1, 1, 1, 1, 1, 1, 1, 1, 1, 1, 1, 1, 1, 1, 1, 1, 1, 1, 1, 2, 2, 2, 2, 2, 2, 2, 2, 2, 2, 2, 2, 2, 2, 2, 2, 2, 2, 2, 2, 2, 2, 2, 2, 2, 2, 2, 2, 2, 2, 2, 2, 3, 3, 3, 3, 3, 3, 3, 3, 3, 3, 3, 3, 4, 4, 4, 4, 4, 4, 5, 7, 7, 12, 12, 12, 30, 1, 2, 7, 2, 2, 2, 2, 2, 3, 2, 3, 3, 3, 3, 2, 2, 2, 2, 4, 2, 4, 2, 2, 3, 3, 2, 4, 2, 2, 2, 5, 2, 3, 7, 2, 4, 2, 12, 2, 1, 1, 1, 1, 1, 1, 2, 1, 1, 1, 1, 1, 2, 1, 1, 1, 1, 1, 1, 1, 1, 1, 1, 1, 1, 2, 1, 4, 2, 2, 1, 1, 1, 1, 1, 1, 1, 1, 1, 1, 1, 1, 1, 1, 1, 1, 1, 1, 3, 3, 2, 30, 12, 12, 2, 2, 3, 2, 2, 4, 3]}],                        {\"legend\": {\"tracegroupgap\": 0}, \"margin\": {\"t\": 60}, \"template\": {\"data\": {\"bar\": [{\"error_x\": {\"color\": \"#2a3f5f\"}, \"error_y\": {\"color\": \"#2a3f5f\"}, \"marker\": {\"line\": {\"color\": \"#E5ECF6\", \"width\": 0.5}}, \"type\": \"bar\"}], \"barpolar\": [{\"marker\": {\"line\": {\"color\": \"#E5ECF6\", \"width\": 0.5}}, \"type\": \"barpolar\"}], \"carpet\": [{\"aaxis\": {\"endlinecolor\": \"#2a3f5f\", \"gridcolor\": \"white\", \"linecolor\": \"white\", \"minorgridcolor\": \"white\", \"startlinecolor\": \"#2a3f5f\"}, \"baxis\": {\"endlinecolor\": \"#2a3f5f\", \"gridcolor\": \"white\", \"linecolor\": \"white\", \"minorgridcolor\": \"white\", \"startlinecolor\": \"#2a3f5f\"}, \"type\": \"carpet\"}], \"choropleth\": [{\"colorbar\": {\"outlinewidth\": 0, \"ticks\": \"\"}, \"type\": \"choropleth\"}], \"contour\": [{\"colorbar\": {\"outlinewidth\": 0, \"ticks\": \"\"}, \"colorscale\": [[0.0, \"#0d0887\"], [0.1111111111111111, \"#46039f\"], [0.2222222222222222, \"#7201a8\"], [0.3333333333333333, \"#9c179e\"], [0.4444444444444444, \"#bd3786\"], [0.5555555555555556, \"#d8576b\"], [0.6666666666666666, \"#ed7953\"], [0.7777777777777778, \"#fb9f3a\"], [0.8888888888888888, \"#fdca26\"], [1.0, \"#f0f921\"]], \"type\": \"contour\"}], \"contourcarpet\": [{\"colorbar\": {\"outlinewidth\": 0, \"ticks\": \"\"}, \"type\": \"contourcarpet\"}], \"heatmap\": [{\"colorbar\": {\"outlinewidth\": 0, \"ticks\": \"\"}, \"colorscale\": [[0.0, \"#0d0887\"], [0.1111111111111111, \"#46039f\"], [0.2222222222222222, \"#7201a8\"], [0.3333333333333333, \"#9c179e\"], [0.4444444444444444, \"#bd3786\"], [0.5555555555555556, \"#d8576b\"], [0.6666666666666666, \"#ed7953\"], [0.7777777777777778, \"#fb9f3a\"], [0.8888888888888888, \"#fdca26\"], [1.0, \"#f0f921\"]], \"type\": \"heatmap\"}], \"heatmapgl\": [{\"colorbar\": {\"outlinewidth\": 0, \"ticks\": \"\"}, \"colorscale\": [[0.0, \"#0d0887\"], [0.1111111111111111, \"#46039f\"], [0.2222222222222222, \"#7201a8\"], [0.3333333333333333, \"#9c179e\"], [0.4444444444444444, \"#bd3786\"], [0.5555555555555556, \"#d8576b\"], [0.6666666666666666, \"#ed7953\"], [0.7777777777777778, \"#fb9f3a\"], [0.8888888888888888, \"#fdca26\"], [1.0, \"#f0f921\"]], \"type\": \"heatmapgl\"}], \"histogram\": [{\"marker\": {\"colorbar\": {\"outlinewidth\": 0, \"ticks\": \"\"}}, \"type\": \"histogram\"}], \"histogram2d\": [{\"colorbar\": {\"outlinewidth\": 0, \"ticks\": \"\"}, \"colorscale\": [[0.0, \"#0d0887\"], [0.1111111111111111, \"#46039f\"], [0.2222222222222222, \"#7201a8\"], [0.3333333333333333, \"#9c179e\"], [0.4444444444444444, \"#bd3786\"], [0.5555555555555556, \"#d8576b\"], [0.6666666666666666, \"#ed7953\"], [0.7777777777777778, \"#fb9f3a\"], [0.8888888888888888, \"#fdca26\"], [1.0, \"#f0f921\"]], \"type\": \"histogram2d\"}], \"histogram2dcontour\": [{\"colorbar\": {\"outlinewidth\": 0, \"ticks\": \"\"}, \"colorscale\": [[0.0, \"#0d0887\"], [0.1111111111111111, \"#46039f\"], [0.2222222222222222, \"#7201a8\"], [0.3333333333333333, \"#9c179e\"], [0.4444444444444444, \"#bd3786\"], [0.5555555555555556, \"#d8576b\"], [0.6666666666666666, \"#ed7953\"], [0.7777777777777778, \"#fb9f3a\"], [0.8888888888888888, \"#fdca26\"], [1.0, \"#f0f921\"]], \"type\": \"histogram2dcontour\"}], \"mesh3d\": [{\"colorbar\": {\"outlinewidth\": 0, \"ticks\": \"\"}, \"type\": \"mesh3d\"}], \"parcoords\": [{\"line\": {\"colorbar\": {\"outlinewidth\": 0, \"ticks\": \"\"}}, \"type\": \"parcoords\"}], \"pie\": [{\"automargin\": true, \"type\": \"pie\"}], \"scatter\": [{\"marker\": {\"colorbar\": {\"outlinewidth\": 0, \"ticks\": \"\"}}, \"type\": \"scatter\"}], \"scatter3d\": [{\"line\": {\"colorbar\": {\"outlinewidth\": 0, \"ticks\": \"\"}}, \"marker\": {\"colorbar\": {\"outlinewidth\": 0, \"ticks\": \"\"}}, \"type\": \"scatter3d\"}], \"scattercarpet\": [{\"marker\": {\"colorbar\": {\"outlinewidth\": 0, \"ticks\": \"\"}}, \"type\": \"scattercarpet\"}], \"scattergeo\": [{\"marker\": {\"colorbar\": {\"outlinewidth\": 0, \"ticks\": \"\"}}, \"type\": \"scattergeo\"}], \"scattergl\": [{\"marker\": {\"colorbar\": {\"outlinewidth\": 0, \"ticks\": \"\"}}, \"type\": \"scattergl\"}], \"scattermapbox\": [{\"marker\": {\"colorbar\": {\"outlinewidth\": 0, \"ticks\": \"\"}}, \"type\": \"scattermapbox\"}], \"scatterpolar\": [{\"marker\": {\"colorbar\": {\"outlinewidth\": 0, \"ticks\": \"\"}}, \"type\": \"scatterpolar\"}], \"scatterpolargl\": [{\"marker\": {\"colorbar\": {\"outlinewidth\": 0, \"ticks\": \"\"}}, \"type\": \"scatterpolargl\"}], \"scatterternary\": [{\"marker\": {\"colorbar\": {\"outlinewidth\": 0, \"ticks\": \"\"}}, \"type\": \"scatterternary\"}], \"surface\": [{\"colorbar\": {\"outlinewidth\": 0, \"ticks\": \"\"}, \"colorscale\": [[0.0, \"#0d0887\"], [0.1111111111111111, \"#46039f\"], [0.2222222222222222, \"#7201a8\"], [0.3333333333333333, \"#9c179e\"], [0.4444444444444444, \"#bd3786\"], [0.5555555555555556, \"#d8576b\"], [0.6666666666666666, \"#ed7953\"], [0.7777777777777778, \"#fb9f3a\"], [0.8888888888888888, \"#fdca26\"], [1.0, \"#f0f921\"]], \"type\": \"surface\"}], \"table\": [{\"cells\": {\"fill\": {\"color\": \"#EBF0F8\"}, \"line\": {\"color\": \"white\"}}, \"header\": {\"fill\": {\"color\": \"#C8D4E3\"}, \"line\": {\"color\": \"white\"}}, \"type\": \"table\"}]}, \"layout\": {\"annotationdefaults\": {\"arrowcolor\": \"#2a3f5f\", \"arrowhead\": 0, \"arrowwidth\": 1}, \"autotypenumbers\": \"strict\", \"coloraxis\": {\"colorbar\": {\"outlinewidth\": 0, \"ticks\": \"\"}}, \"colorscale\": {\"diverging\": [[0, \"#8e0152\"], [0.1, \"#c51b7d\"], [0.2, \"#de77ae\"], [0.3, \"#f1b6da\"], [0.4, \"#fde0ef\"], [0.5, \"#f7f7f7\"], [0.6, \"#e6f5d0\"], [0.7, \"#b8e186\"], [0.8, \"#7fbc41\"], [0.9, \"#4d9221\"], [1, \"#276419\"]], \"sequential\": [[0.0, \"#0d0887\"], [0.1111111111111111, \"#46039f\"], [0.2222222222222222, \"#7201a8\"], [0.3333333333333333, \"#9c179e\"], [0.4444444444444444, \"#bd3786\"], [0.5555555555555556, \"#d8576b\"], [0.6666666666666666, \"#ed7953\"], [0.7777777777777778, \"#fb9f3a\"], [0.8888888888888888, \"#fdca26\"], [1.0, \"#f0f921\"]], \"sequentialminus\": [[0.0, \"#0d0887\"], [0.1111111111111111, \"#46039f\"], [0.2222222222222222, \"#7201a8\"], [0.3333333333333333, \"#9c179e\"], [0.4444444444444444, \"#bd3786\"], [0.5555555555555556, \"#d8576b\"], [0.6666666666666666, \"#ed7953\"], [0.7777777777777778, \"#fb9f3a\"], [0.8888888888888888, \"#fdca26\"], [1.0, \"#f0f921\"]]}, \"colorway\": [\"#636efa\", \"#EF553B\", \"#00cc96\", \"#ab63fa\", \"#FFA15A\", \"#19d3f3\", \"#FF6692\", \"#B6E880\", \"#FF97FF\", \"#FECB52\"], \"font\": {\"color\": \"#2a3f5f\"}, \"geo\": {\"bgcolor\": \"white\", \"lakecolor\": \"white\", \"landcolor\": \"#E5ECF6\", \"showlakes\": true, \"showland\": true, \"subunitcolor\": \"white\"}, \"hoverlabel\": {\"align\": \"left\"}, \"hovermode\": \"closest\", \"mapbox\": {\"style\": \"light\"}, \"paper_bgcolor\": \"white\", \"plot_bgcolor\": \"#E5ECF6\", \"polar\": {\"angularaxis\": {\"gridcolor\": \"white\", \"linecolor\": \"white\", \"ticks\": \"\"}, \"bgcolor\": \"#E5ECF6\", \"radialaxis\": {\"gridcolor\": \"white\", \"linecolor\": \"white\", \"ticks\": \"\"}}, \"scene\": {\"xaxis\": {\"backgroundcolor\": \"#E5ECF6\", \"gridcolor\": \"white\", \"gridwidth\": 2, \"linecolor\": \"white\", \"showbackground\": true, \"ticks\": \"\", \"zerolinecolor\": \"white\"}, \"yaxis\": {\"backgroundcolor\": \"#E5ECF6\", \"gridcolor\": \"white\", \"gridwidth\": 2, \"linecolor\": \"white\", \"showbackground\": true, \"ticks\": \"\", \"zerolinecolor\": \"white\"}, \"zaxis\": {\"backgroundcolor\": \"#E5ECF6\", \"gridcolor\": \"white\", \"gridwidth\": 2, \"linecolor\": \"white\", \"showbackground\": true, \"ticks\": \"\", \"zerolinecolor\": \"white\"}}, \"shapedefaults\": {\"line\": {\"color\": \"#2a3f5f\"}}, \"ternary\": {\"aaxis\": {\"gridcolor\": \"white\", \"linecolor\": \"white\", \"ticks\": \"\"}, \"baxis\": {\"gridcolor\": \"white\", \"linecolor\": \"white\", \"ticks\": \"\"}, \"bgcolor\": \"#E5ECF6\", \"caxis\": {\"gridcolor\": \"white\", \"linecolor\": \"white\", \"ticks\": \"\"}}, \"title\": {\"x\": 0.05}, \"xaxis\": {\"automargin\": true, \"gridcolor\": \"white\", \"linecolor\": \"white\", \"ticks\": \"\", \"title\": {\"standoff\": 15}, \"zerolinecolor\": \"white\", \"zerolinewidth\": 2}, \"yaxis\": {\"automargin\": true, \"gridcolor\": \"white\", \"linecolor\": \"white\", \"ticks\": \"\", \"title\": {\"standoff\": 15}, \"zerolinecolor\": \"white\", \"zerolinewidth\": 2}}}},                        {\"responsive\": true}                    ).then(function(){\n",
       "                            \n",
       "var gd = document.getElementById('1fda16f1-5b43-4822-b59e-52a72e0ed563');\n",
       "var x = new MutationObserver(function (mutations, observer) {{\n",
       "        var display = window.getComputedStyle(gd).display;\n",
       "        if (!display || display === 'none') {{\n",
       "            console.log([gd, 'removed!']);\n",
       "            Plotly.purge(gd);\n",
       "            observer.disconnect();\n",
       "        }}\n",
       "}});\n",
       "\n",
       "// Listen for the removal of the full notebook cells\n",
       "var notebookContainer = gd.closest('#notebook-container');\n",
       "if (notebookContainer) {{\n",
       "    x.observe(notebookContainer, {childList: true});\n",
       "}}\n",
       "\n",
       "// Listen for the clearing of the current output cell\n",
       "var outputEl = gd.closest('.output');\n",
       "if (outputEl) {{\n",
       "    x.observe(outputEl, {childList: true});\n",
       "}}\n",
       "\n",
       "                        })                };                });            </script>        </div>"
      ]
     },
     "metadata": {},
     "output_type": "display_data"
    }
   ],
   "source": [
    "# Create a treemap for the top companies\n",
    "fig3 = px.treemap(df_by_company[:100], path=[\"Company\", \"Position\"],\n",
    "                 values=\"First Name\",\n",
    "                 labels={\"First Name\": \"Count\"})\n",
    "fig3.show()"
   ]
  },
  {
   "cell_type": "markdown",
   "metadata": {
    "papermill": {
     "duration": 0.020852,
     "end_time": "2021-02-24T05:24:24.820523",
     "exception": false,
     "start_time": "2021-02-24T05:24:24.799671",
     "status": "completed"
    },
    "tags": []
   },
   "source": [
    "Using the treemap above, it is easier to compare the proportion of one company/organization to the others. It looks like the largest proportion of my network is from my university."
   ]
  },
  {
   "cell_type": "markdown",
   "metadata": {
    "papermill": {
     "duration": 0.02124,
     "end_time": "2021-02-24T05:24:24.863265",
     "exception": false,
     "start_time": "2021-02-24T05:24:24.842025",
     "status": "completed"
    },
    "tags": []
   },
   "source": [
    "## Position\n",
    "> What are the top common positions of people in my network?\n",
    "\n",
    "To answer that question, we can create similar visualizations for the `Position` column"
   ]
  },
  {
   "cell_type": "code",
   "execution_count": 10,
   "metadata": {
    "execution": {
     "iopub.execute_input": "2021-02-24T05:24:24.913813Z",
     "iopub.status.busy": "2021-02-24T05:24:24.913094Z",
     "iopub.status.idle": "2021-02-24T05:24:24.930533Z",
     "shell.execute_reply": "2021-02-24T05:24:24.929837Z"
    },
    "papermill": {
     "duration": 0.04604,
     "end_time": "2021-02-24T05:24:24.930676",
     "exception": false,
     "start_time": "2021-02-24T05:24:24.884636",
     "status": "completed"
    },
    "tags": []
   },
   "outputs": [
    {
     "output_type": "execute_result",
     "data": {
      "text/plain": [
       "                                              Position  First Name  Last Name  \\\n",
       "0                                       Data Scientist          76         76   \n",
       "1                            Machine Learning Engineer          18         18   \n",
       "2                                         Data Analyst          17         17   \n",
       "3                                              Founder          15         15   \n",
       "4                                  Data Science Intern          12         12   \n",
       "..                                                 ...         ...        ...   \n",
       "669                                   Economic Analyst           1          1   \n",
       "670                                             Editor           1          1   \n",
       "671                                    Editor In Chief           1          1   \n",
       "672                                  Editor and Writer           1          1   \n",
       "673  🎗Freelance data scientist: Just contact me if ...           1          1   \n",
       "\n",
       "     Company  Connected On  \n",
       "0         76            76  \n",
       "1         18            18  \n",
       "2         17            17  \n",
       "3         15            15  \n",
       "4         12            12  \n",
       "..       ...           ...  \n",
       "669        1             1  \n",
       "670        1             1  \n",
       "671        1             1  \n",
       "672        1             1  \n",
       "673        1             1  \n",
       "\n",
       "[674 rows x 5 columns]"
      ],
      "text/html": "<div>\n<style scoped>\n    .dataframe tbody tr th:only-of-type {\n        vertical-align: middle;\n    }\n\n    .dataframe tbody tr th {\n        vertical-align: top;\n    }\n\n    .dataframe thead th {\n        text-align: right;\n    }\n</style>\n<table border=\"1\" class=\"dataframe\">\n  <thead>\n    <tr style=\"text-align: right;\">\n      <th></th>\n      <th>Position</th>\n      <th>First Name</th>\n      <th>Last Name</th>\n      <th>Company</th>\n      <th>Connected On</th>\n    </tr>\n  </thead>\n  <tbody>\n    <tr>\n      <th>0</th>\n      <td>Data Scientist</td>\n      <td>76</td>\n      <td>76</td>\n      <td>76</td>\n      <td>76</td>\n    </tr>\n    <tr>\n      <th>1</th>\n      <td>Machine Learning Engineer</td>\n      <td>18</td>\n      <td>18</td>\n      <td>18</td>\n      <td>18</td>\n    </tr>\n    <tr>\n      <th>2</th>\n      <td>Data Analyst</td>\n      <td>17</td>\n      <td>17</td>\n      <td>17</td>\n      <td>17</td>\n    </tr>\n    <tr>\n      <th>3</th>\n      <td>Founder</td>\n      <td>15</td>\n      <td>15</td>\n      <td>15</td>\n      <td>15</td>\n    </tr>\n    <tr>\n      <th>4</th>\n      <td>Data Science Intern</td>\n      <td>12</td>\n      <td>12</td>\n      <td>12</td>\n      <td>12</td>\n    </tr>\n    <tr>\n      <th>...</th>\n      <td>...</td>\n      <td>...</td>\n      <td>...</td>\n      <td>...</td>\n      <td>...</td>\n    </tr>\n    <tr>\n      <th>669</th>\n      <td>Economic Analyst</td>\n      <td>1</td>\n      <td>1</td>\n      <td>1</td>\n      <td>1</td>\n    </tr>\n    <tr>\n      <th>670</th>\n      <td>Editor</td>\n      <td>1</td>\n      <td>1</td>\n      <td>1</td>\n      <td>1</td>\n    </tr>\n    <tr>\n      <th>671</th>\n      <td>Editor In Chief</td>\n      <td>1</td>\n      <td>1</td>\n      <td>1</td>\n      <td>1</td>\n    </tr>\n    <tr>\n      <th>672</th>\n      <td>Editor and Writer</td>\n      <td>1</td>\n      <td>1</td>\n      <td>1</td>\n      <td>1</td>\n    </tr>\n    <tr>\n      <th>673</th>\n      <td>🎗Freelance data scientist: Just contact me if ...</td>\n      <td>1</td>\n      <td>1</td>\n      <td>1</td>\n      <td>1</td>\n    </tr>\n  </tbody>\n</table>\n<p>674 rows × 5 columns</p>\n</div>"
     },
     "metadata": {},
     "execution_count": 10
    }
   ],
   "source": [
    "# Group and sort the data by position \n",
    "df_by_position = df.groupby(by=\"Position\").count().reset_index().sort_values(by=\"First Name\", ascending=False).reset_index(drop=True)\n",
    "df_by_position"
   ]
  },
  {
   "cell_type": "code",
   "execution_count": 11,
   "metadata": {
    "execution": {
     "iopub.execute_input": "2021-02-24T05:24:24.981536Z",
     "iopub.status.busy": "2021-02-24T05:24:24.980736Z",
     "iopub.status.idle": "2021-02-24T05:24:25.040549Z",
     "shell.execute_reply": "2021-02-24T05:24:25.041063Z"
    },
    "papermill": {
     "duration": 0.088483,
     "end_time": "2021-02-24T05:24:25.041245",
     "exception": false,
     "start_time": "2021-02-24T05:24:24.952762",
     "status": "completed"
    },
    "tags": []
   },
   "outputs": [
    {
     "output_type": "display_data",
     "data": {
      "application/vnd.plotly.v1+json": {
       "config": {
        "plotlyServerURL": "https://plotly.com"
       },
       "data": [
        {
         "alignmentgroup": "True",
         "hovertemplate": "Position=%{x}<br>Count=%{y}<extra></extra>",
         "legendgroup": "",
         "marker": {
          "color": "#636efa"
         },
         "name": "",
         "offsetgroup": "",
         "orientation": "v",
         "showlegend": false,
         "textposition": "auto",
         "type": "bar",
         "x": [
          "Data Scientist",
          "Machine Learning Engineer",
          "Data Analyst",
          "Founder",
          "Data Science Intern",
          "Software Engineer",
          "Senior Data Scientist",
          "Research Assistant",
          "Co-Founder",
          "Student",
          "Technical Writer",
          "Lead Data Scientist",
          "Data Engineer",
          "President",
          "Teaching Assistant",
          "Business Analyst",
          "Lecturer",
          "Machine Learning Intern",
          "Principal Data Scientist",
          "CEO"
         ],
         "xaxis": "x",
         "y": [
          76,
          18,
          17,
          15,
          12,
          11,
          10,
          9,
          9,
          8,
          7,
          6,
          5,
          4,
          4,
          4,
          4,
          4,
          4,
          4
         ],
         "yaxis": "y"
        }
       ],
       "layout": {
        "barmode": "relative",
        "legend": {
         "tracegroupgap": 0
        },
        "template": {
         "data": {
          "bar": [
           {
            "error_x": {
             "color": "#2a3f5f"
            },
            "error_y": {
             "color": "#2a3f5f"
            },
            "marker": {
             "line": {
              "color": "#E5ECF6",
              "width": 0.5
             }
            },
            "type": "bar"
           }
          ],
          "barpolar": [
           {
            "marker": {
             "line": {
              "color": "#E5ECF6",
              "width": 0.5
             }
            },
            "type": "barpolar"
           }
          ],
          "carpet": [
           {
            "aaxis": {
             "endlinecolor": "#2a3f5f",
             "gridcolor": "white",
             "linecolor": "white",
             "minorgridcolor": "white",
             "startlinecolor": "#2a3f5f"
            },
            "baxis": {
             "endlinecolor": "#2a3f5f",
             "gridcolor": "white",
             "linecolor": "white",
             "minorgridcolor": "white",
             "startlinecolor": "#2a3f5f"
            },
            "type": "carpet"
           }
          ],
          "choropleth": [
           {
            "colorbar": {
             "outlinewidth": 0,
             "ticks": ""
            },
            "type": "choropleth"
           }
          ],
          "contour": [
           {
            "colorbar": {
             "outlinewidth": 0,
             "ticks": ""
            },
            "colorscale": [
             [
              0,
              "#0d0887"
             ],
             [
              0.1111111111111111,
              "#46039f"
             ],
             [
              0.2222222222222222,
              "#7201a8"
             ],
             [
              0.3333333333333333,
              "#9c179e"
             ],
             [
              0.4444444444444444,
              "#bd3786"
             ],
             [
              0.5555555555555556,
              "#d8576b"
             ],
             [
              0.6666666666666666,
              "#ed7953"
             ],
             [
              0.7777777777777778,
              "#fb9f3a"
             ],
             [
              0.8888888888888888,
              "#fdca26"
             ],
             [
              1,
              "#f0f921"
             ]
            ],
            "type": "contour"
           }
          ],
          "contourcarpet": [
           {
            "colorbar": {
             "outlinewidth": 0,
             "ticks": ""
            },
            "type": "contourcarpet"
           }
          ],
          "heatmap": [
           {
            "colorbar": {
             "outlinewidth": 0,
             "ticks": ""
            },
            "colorscale": [
             [
              0,
              "#0d0887"
             ],
             [
              0.1111111111111111,
              "#46039f"
             ],
             [
              0.2222222222222222,
              "#7201a8"
             ],
             [
              0.3333333333333333,
              "#9c179e"
             ],
             [
              0.4444444444444444,
              "#bd3786"
             ],
             [
              0.5555555555555556,
              "#d8576b"
             ],
             [
              0.6666666666666666,
              "#ed7953"
             ],
             [
              0.7777777777777778,
              "#fb9f3a"
             ],
             [
              0.8888888888888888,
              "#fdca26"
             ],
             [
              1,
              "#f0f921"
             ]
            ],
            "type": "heatmap"
           }
          ],
          "heatmapgl": [
           {
            "colorbar": {
             "outlinewidth": 0,
             "ticks": ""
            },
            "colorscale": [
             [
              0,
              "#0d0887"
             ],
             [
              0.1111111111111111,
              "#46039f"
             ],
             [
              0.2222222222222222,
              "#7201a8"
             ],
             [
              0.3333333333333333,
              "#9c179e"
             ],
             [
              0.4444444444444444,
              "#bd3786"
             ],
             [
              0.5555555555555556,
              "#d8576b"
             ],
             [
              0.6666666666666666,
              "#ed7953"
             ],
             [
              0.7777777777777778,
              "#fb9f3a"
             ],
             [
              0.8888888888888888,
              "#fdca26"
             ],
             [
              1,
              "#f0f921"
             ]
            ],
            "type": "heatmapgl"
           }
          ],
          "histogram": [
           {
            "marker": {
             "colorbar": {
              "outlinewidth": 0,
              "ticks": ""
             }
            },
            "type": "histogram"
           }
          ],
          "histogram2d": [
           {
            "colorbar": {
             "outlinewidth": 0,
             "ticks": ""
            },
            "colorscale": [
             [
              0,
              "#0d0887"
             ],
             [
              0.1111111111111111,
              "#46039f"
             ],
             [
              0.2222222222222222,
              "#7201a8"
             ],
             [
              0.3333333333333333,
              "#9c179e"
             ],
             [
              0.4444444444444444,
              "#bd3786"
             ],
             [
              0.5555555555555556,
              "#d8576b"
             ],
             [
              0.6666666666666666,
              "#ed7953"
             ],
             [
              0.7777777777777778,
              "#fb9f3a"
             ],
             [
              0.8888888888888888,
              "#fdca26"
             ],
             [
              1,
              "#f0f921"
             ]
            ],
            "type": "histogram2d"
           }
          ],
          "histogram2dcontour": [
           {
            "colorbar": {
             "outlinewidth": 0,
             "ticks": ""
            },
            "colorscale": [
             [
              0,
              "#0d0887"
             ],
             [
              0.1111111111111111,
              "#46039f"
             ],
             [
              0.2222222222222222,
              "#7201a8"
             ],
             [
              0.3333333333333333,
              "#9c179e"
             ],
             [
              0.4444444444444444,
              "#bd3786"
             ],
             [
              0.5555555555555556,
              "#d8576b"
             ],
             [
              0.6666666666666666,
              "#ed7953"
             ],
             [
              0.7777777777777778,
              "#fb9f3a"
             ],
             [
              0.8888888888888888,
              "#fdca26"
             ],
             [
              1,
              "#f0f921"
             ]
            ],
            "type": "histogram2dcontour"
           }
          ],
          "mesh3d": [
           {
            "colorbar": {
             "outlinewidth": 0,
             "ticks": ""
            },
            "type": "mesh3d"
           }
          ],
          "parcoords": [
           {
            "line": {
             "colorbar": {
              "outlinewidth": 0,
              "ticks": ""
             }
            },
            "type": "parcoords"
           }
          ],
          "pie": [
           {
            "automargin": true,
            "type": "pie"
           }
          ],
          "scatter": [
           {
            "marker": {
             "colorbar": {
              "outlinewidth": 0,
              "ticks": ""
             }
            },
            "type": "scatter"
           }
          ],
          "scatter3d": [
           {
            "line": {
             "colorbar": {
              "outlinewidth": 0,
              "ticks": ""
             }
            },
            "marker": {
             "colorbar": {
              "outlinewidth": 0,
              "ticks": ""
             }
            },
            "type": "scatter3d"
           }
          ],
          "scattercarpet": [
           {
            "marker": {
             "colorbar": {
              "outlinewidth": 0,
              "ticks": ""
             }
            },
            "type": "scattercarpet"
           }
          ],
          "scattergeo": [
           {
            "marker": {
             "colorbar": {
              "outlinewidth": 0,
              "ticks": ""
             }
            },
            "type": "scattergeo"
           }
          ],
          "scattergl": [
           {
            "marker": {
             "colorbar": {
              "outlinewidth": 0,
              "ticks": ""
             }
            },
            "type": "scattergl"
           }
          ],
          "scattermapbox": [
           {
            "marker": {
             "colorbar": {
              "outlinewidth": 0,
              "ticks": ""
             }
            },
            "type": "scattermapbox"
           }
          ],
          "scatterpolar": [
           {
            "marker": {
             "colorbar": {
              "outlinewidth": 0,
              "ticks": ""
             }
            },
            "type": "scatterpolar"
           }
          ],
          "scatterpolargl": [
           {
            "marker": {
             "colorbar": {
              "outlinewidth": 0,
              "ticks": ""
             }
            },
            "type": "scatterpolargl"
           }
          ],
          "scatterternary": [
           {
            "marker": {
             "colorbar": {
              "outlinewidth": 0,
              "ticks": ""
             }
            },
            "type": "scatterternary"
           }
          ],
          "surface": [
           {
            "colorbar": {
             "outlinewidth": 0,
             "ticks": ""
            },
            "colorscale": [
             [
              0,
              "#0d0887"
             ],
             [
              0.1111111111111111,
              "#46039f"
             ],
             [
              0.2222222222222222,
              "#7201a8"
             ],
             [
              0.3333333333333333,
              "#9c179e"
             ],
             [
              0.4444444444444444,
              "#bd3786"
             ],
             [
              0.5555555555555556,
              "#d8576b"
             ],
             [
              0.6666666666666666,
              "#ed7953"
             ],
             [
              0.7777777777777778,
              "#fb9f3a"
             ],
             [
              0.8888888888888888,
              "#fdca26"
             ],
             [
              1,
              "#f0f921"
             ]
            ],
            "type": "surface"
           }
          ],
          "table": [
           {
            "cells": {
             "fill": {
              "color": "#EBF0F8"
             },
             "line": {
              "color": "white"
             }
            },
            "header": {
             "fill": {
              "color": "#C8D4E3"
             },
             "line": {
              "color": "white"
             }
            },
            "type": "table"
           }
          ]
         },
         "layout": {
          "annotationdefaults": {
           "arrowcolor": "#2a3f5f",
           "arrowhead": 0,
           "arrowwidth": 1
          },
          "autotypenumbers": "strict",
          "coloraxis": {
           "colorbar": {
            "outlinewidth": 0,
            "ticks": ""
           }
          },
          "colorscale": {
           "diverging": [
            [
             0,
             "#8e0152"
            ],
            [
             0.1,
             "#c51b7d"
            ],
            [
             0.2,
             "#de77ae"
            ],
            [
             0.3,
             "#f1b6da"
            ],
            [
             0.4,
             "#fde0ef"
            ],
            [
             0.5,
             "#f7f7f7"
            ],
            [
             0.6,
             "#e6f5d0"
            ],
            [
             0.7,
             "#b8e186"
            ],
            [
             0.8,
             "#7fbc41"
            ],
            [
             0.9,
             "#4d9221"
            ],
            [
             1,
             "#276419"
            ]
           ],
           "sequential": [
            [
             0,
             "#0d0887"
            ],
            [
             0.1111111111111111,
             "#46039f"
            ],
            [
             0.2222222222222222,
             "#7201a8"
            ],
            [
             0.3333333333333333,
             "#9c179e"
            ],
            [
             0.4444444444444444,
             "#bd3786"
            ],
            [
             0.5555555555555556,
             "#d8576b"
            ],
            [
             0.6666666666666666,
             "#ed7953"
            ],
            [
             0.7777777777777778,
             "#fb9f3a"
            ],
            [
             0.8888888888888888,
             "#fdca26"
            ],
            [
             1,
             "#f0f921"
            ]
           ],
           "sequentialminus": [
            [
             0,
             "#0d0887"
            ],
            [
             0.1111111111111111,
             "#46039f"
            ],
            [
             0.2222222222222222,
             "#7201a8"
            ],
            [
             0.3333333333333333,
             "#9c179e"
            ],
            [
             0.4444444444444444,
             "#bd3786"
            ],
            [
             0.5555555555555556,
             "#d8576b"
            ],
            [
             0.6666666666666666,
             "#ed7953"
            ],
            [
             0.7777777777777778,
             "#fb9f3a"
            ],
            [
             0.8888888888888888,
             "#fdca26"
            ],
            [
             1,
             "#f0f921"
            ]
           ]
          },
          "colorway": [
           "#636efa",
           "#EF553B",
           "#00cc96",
           "#ab63fa",
           "#FFA15A",
           "#19d3f3",
           "#FF6692",
           "#B6E880",
           "#FF97FF",
           "#FECB52"
          ],
          "font": {
           "color": "#2a3f5f"
          },
          "geo": {
           "bgcolor": "white",
           "lakecolor": "white",
           "landcolor": "#E5ECF6",
           "showlakes": true,
           "showland": true,
           "subunitcolor": "white"
          },
          "hoverlabel": {
           "align": "left"
          },
          "hovermode": "closest",
          "mapbox": {
           "style": "light"
          },
          "paper_bgcolor": "white",
          "plot_bgcolor": "#E5ECF6",
          "polar": {
           "angularaxis": {
            "gridcolor": "white",
            "linecolor": "white",
            "ticks": ""
           },
           "bgcolor": "#E5ECF6",
           "radialaxis": {
            "gridcolor": "white",
            "linecolor": "white",
            "ticks": ""
           }
          },
          "scene": {
           "xaxis": {
            "backgroundcolor": "#E5ECF6",
            "gridcolor": "white",
            "gridwidth": 2,
            "linecolor": "white",
            "showbackground": true,
            "ticks": "",
            "zerolinecolor": "white"
           },
           "yaxis": {
            "backgroundcolor": "#E5ECF6",
            "gridcolor": "white",
            "gridwidth": 2,
            "linecolor": "white",
            "showbackground": true,
            "ticks": "",
            "zerolinecolor": "white"
           },
           "zaxis": {
            "backgroundcolor": "#E5ECF6",
            "gridcolor": "white",
            "gridwidth": 2,
            "linecolor": "white",
            "showbackground": true,
            "ticks": "",
            "zerolinecolor": "white"
           }
          },
          "shapedefaults": {
           "line": {
            "color": "#2a3f5f"
           }
          },
          "ternary": {
           "aaxis": {
            "gridcolor": "white",
            "linecolor": "white",
            "ticks": ""
           },
           "baxis": {
            "gridcolor": "white",
            "linecolor": "white",
            "ticks": ""
           },
           "bgcolor": "#E5ECF6",
           "caxis": {
            "gridcolor": "white",
            "linecolor": "white",
            "ticks": ""
           }
          },
          "title": {
           "x": 0.05
          },
          "xaxis": {
           "automargin": true,
           "gridcolor": "white",
           "linecolor": "white",
           "ticks": "",
           "title": {
            "standoff": 15
           },
           "zerolinecolor": "white",
           "zerolinewidth": 2
          },
          "yaxis": {
           "automargin": true,
           "gridcolor": "white",
           "linecolor": "white",
           "ticks": "",
           "title": {
            "standoff": 15
           },
           "zerolinecolor": "white",
           "zerolinewidth": 2
          }
         }
        },
        "title": {
         "text": "Top Positions in my Network"
        },
        "xaxis": {
         "anchor": "y",
         "domain": [
          0,
          1
         ],
         "title": {
          "text": "Position"
         }
        },
        "yaxis": {
         "anchor": "x",
         "domain": [
          0,
          1
         ],
         "title": {
          "text": "Count"
         }
        }
       }
      }
     },
     "metadata": {}
    }
   ],
   "source": [
    "# Create a bar plot for the top positions\n",
    "fig4 = px.bar(df_by_position[:20],\n",
    "              x=\"Position\",\n",
    "              y=\"First Name\",\n",
    "              labels={\"First Name\": \"Count\"},\n",
    "              title=\"Top Positions in my Network\")\n",
    "fig4.show()"
   ]
  },
  {
   "cell_type": "code",
   "execution_count": 11,
   "metadata": {
    "execution": {
     "iopub.execute_input": "2021-02-24T05:24:25.102387Z",
     "iopub.status.busy": "2021-02-24T05:24:25.101695Z",
     "iopub.status.idle": "2021-02-24T05:24:25.207646Z",
     "shell.execute_reply": "2021-02-24T05:24:25.208299Z"
    },
    "papermill": {
     "duration": 0.144687,
     "end_time": "2021-02-24T05:24:25.208485",
     "exception": false,
     "start_time": "2021-02-24T05:24:25.063798",
     "status": "completed"
    },
    "tags": []
   },
   "outputs": [
    {
     "data": {
      "text/html": [
       "<div>                            <div id=\"8dff01c2-cb64-4d07-86a6-14ace7e87c2e\" class=\"plotly-graph-div\" style=\"height:525px; width:100%;\"></div>            <script type=\"text/javascript\">                require([\"plotly\"], function(Plotly) {                    window.PLOTLYENV=window.PLOTLYENV || {};                                    if (document.getElementById(\"8dff01c2-cb64-4d07-86a6-14ace7e87c2e\")) {                    Plotly.newPlot(                        \"8dff01c2-cb64-4d07-86a6-14ace7e87c2e\",                        [{\"branchvalues\": \"total\", \"domain\": {\"x\": [0.0, 1.0], \"y\": [0.0, 1.0]}, \"hovertemplate\": \"labels=%{label}<br>Count=%{value}<br>parent=%{parent}<br>id=%{id}<extra></extra>\", \"ids\": [\"Pre-ducation Program (PEP) - Training - 2021/1\", \"President, Founding Chairman and Chief Executive Officer/1\", \"Pricing Data Analyst - Working Student/1\", \"Principal/1\", \"Principal Data Science Manager, Microsoft 365 Defender/1\", \"Principal Scientist/1\", \"Principal Technology Solutions Engineer/1\", \"Procurement | Spend Analytics | Cost Savings | Supply Chain | Business Intelligence/1\", \"Product Analytics/1\", \"Product Design Intern/1\", \"Product Development Specialist/1\", \"Product Manager & Testing Engineer/1\", \"Product Manager Intern/1\", \"Programmer/1\", \"Project Engineer/1\", \"Project Manager/1\", \"Project Manager - Business Intelligence Lead/1\", \"Project Researcher/1\", \"Pusat Informasi Lapangan Kerja/1\", \"Pusat Informasi dan Pengembangan Karir/1\", \"Python & Django Developer/1\", \"React Developer/1\", \"Research Analyst - M&A Deals/1\", \"Research Assistant Internship/1\", \"Research Assistant and Instructor for Problem Sessions/1\", \"Research Engineer/1\", \"Research Intern @ Applied Machine Learning Research/1\", \"Research Internship/1\", \"Research Professor, Department of Internal Medicine, Division of Epidemiology/1\", \"Research Scholar/1\", \"Research Software Engineer/1\", \"Application Developer/2\", \"Artificial Intelligence Engineer/2\", \"Associate/2\", \"Associate Editor/2\", \"Business Development Consultant/2\", \"Chief Data Scientist/2\", \"Chief Executive Officer/2\", \"Chief Technology Officer/2\", \"Co-Founder & CEO/2\", \"Consultant/2\", \"Data Analyst Intern/2\", \"Data Science Consultant/2\", \"Data Science Instructor/2\", \"Data Science Mentor/2\", \"Data Science Trainee/2\", \"Data Scientist II/2\", \"Data Scientist Intern/2\", \"Doctoral Student/2\", \"Full Stack Engineer/2\", \"Head of Data Science/2\", \"Junior Data Scientist/2\", \"Marketing Data Analyst/2\", \"Member/2\", \"Partner/2\", \"Python Developer/2\", \"Research Fellow/2\", \"Research Intern/2\", \"Senior Software Engineer/2\", \"Software Engineer Intern/2\", \"Student Ambassador/2\", \"Student Intern/2\", \"Summer Intern/2\", \"System Analyst/2\", \"Undergraduate Student Teaching Fellow/2\", \"Video Solution Maker/2\", \"\\u672c\\u79d1\\u751f\\u7814\\u7a76\\u52a9\\u7406/2\", \"Analyst/3\", \"Contributing Writer/3\", \"Developer/3\", \"Founder & CEO/3\", \"Frontend Web Developer/3\", \"Graduate Research Assistant/3\", \"Mathematics Tutor/3\", \"Product Manager/3\", \"Assistant Professor/4\", \"Business Analyst/4\", \"CEO/4\", \"Computer Vision Engineer/4\", \"Intern/4\", \"Lecturer/4\", \"Machine Learning Intern/4\", \"Postdoctoral Researcher/4\", \"President/4\", \"Principal Data Scientist/4\", \"Teaching Assistant/4\", \"Web Developer/4\", \"Data Engineer/5\", \"Lead Data Scientist/6\", \"Technical Writer/7\", \"Student/8\", \"Co-Founder/9\", \"Research Assistant/9\", \"Senior Data Scientist/10\", \"Software Engineer/11\", \"Data Science Intern/12\", \"Founder/15\", \"Data Analyst/17\", \"Machine Learning Engineer/18\", \"Data Scientist/76\", \"Analyst\", \"Application Developer\", \"Artificial Intelligence Engineer\", \"Assistant Professor\", \"Associate\", \"Associate Editor\", \"Business Analyst\", \"Business Development Consultant\", \"CEO\", \"Chief Data Scientist\", \"Chief Executive Officer\", \"Chief Technology Officer\", \"Co-Founder\", \"Co-Founder & CEO\", \"Computer Vision Engineer\", \"Consultant\", \"Contributing Writer\", \"Data Analyst\", \"Data Analyst Intern\", \"Data Engineer\", \"Data Science Consultant\", \"Data Science Instructor\", \"Data Science Intern\", \"Data Science Mentor\", \"Data Science Trainee\", \"Data Scientist\", \"Data Scientist II\", \"Data Scientist Intern\", \"Developer\", \"Doctoral Student\", \"Founder\", \"Founder & CEO\", \"Frontend Web Developer\", \"Full Stack Engineer\", \"Graduate Research Assistant\", \"Head of Data Science\", \"Intern\", \"Junior Data Scientist\", \"Lead Data Scientist\", \"Lecturer\", \"Machine Learning Engineer\", \"Machine Learning Intern\", \"Marketing Data Analyst\", \"Mathematics Tutor\", \"Member\", \"Partner\", \"Postdoctoral Researcher\", \"Pre-ducation Program (PEP) - Training - 2021\", \"President\", \"President, Founding Chairman and Chief Executive Officer\", \"Pricing Data Analyst - Working Student\", \"Principal\", \"Principal Data Science Manager, Microsoft 365 Defender\", \"Principal Data Scientist\", \"Principal Scientist\", \"Principal Technology Solutions Engineer\", \"Procurement | Spend Analytics | Cost Savings | Supply Chain | Business Intelligence\", \"Product Analytics\", \"Product Design Intern\", \"Product Development Specialist\", \"Product Manager\", \"Product Manager & Testing Engineer\", \"Product Manager Intern\", \"Programmer\", \"Project Engineer\", \"Project Manager\", \"Project Manager - Business Intelligence Lead\", \"Project Researcher\", \"Pusat Informasi Lapangan Kerja\", \"Pusat Informasi dan Pengembangan Karir\", \"Python & Django Developer\", \"Python Developer\", \"React Developer\", \"Research Analyst - M&A Deals\", \"Research Assistant\", \"Research Assistant Internship\", \"Research Assistant and Instructor for Problem Sessions\", \"Research Engineer\", \"Research Fellow\", \"Research Intern\", \"Research Intern @ Applied Machine Learning Research\", \"Research Internship\", \"Research Professor, Department of Internal Medicine, Division of Epidemiology\", \"Research Scholar\", \"Research Software Engineer\", \"Senior Data Scientist\", \"Senior Software Engineer\", \"Software Engineer\", \"Software Engineer Intern\", \"Student\", \"Student Ambassador\", \"Student Intern\", \"Summer Intern\", \"System Analyst\", \"Teaching Assistant\", \"Technical Writer\", \"Undergraduate Student Teaching Fellow\", \"Video Solution Maker\", \"Web Developer\", \"\\u672c\\u79d1\\u751f\\u7814\\u7a76\\u52a9\\u7406\"], \"labels\": [\"1\", \"1\", \"1\", \"1\", \"1\", \"1\", \"1\", \"1\", \"1\", \"1\", \"1\", \"1\", \"1\", \"1\", \"1\", \"1\", \"1\", \"1\", \"1\", \"1\", \"1\", \"1\", \"1\", \"1\", \"1\", \"1\", \"1\", \"1\", \"1\", \"1\", \"1\", \"2\", \"2\", \"2\", \"2\", \"2\", \"2\", \"2\", \"2\", \"2\", \"2\", \"2\", \"2\", \"2\", \"2\", \"2\", \"2\", \"2\", \"2\", \"2\", \"2\", \"2\", \"2\", \"2\", \"2\", \"2\", \"2\", \"2\", \"2\", \"2\", \"2\", \"2\", \"2\", \"2\", \"2\", \"2\", \"2\", \"3\", \"3\", \"3\", \"3\", \"3\", \"3\", \"3\", \"3\", \"4\", \"4\", \"4\", \"4\", \"4\", \"4\", \"4\", \"4\", \"4\", \"4\", \"4\", \"4\", \"5\", \"6\", \"7\", \"8\", \"9\", \"9\", \"10\", \"11\", \"12\", \"15\", \"17\", \"18\", \"76\", \"Analyst\", \"Application Developer\", \"Artificial Intelligence Engineer\", \"Assistant Professor\", \"Associate\", \"Associate Editor\", \"Business Analyst\", \"Business Development Consultant\", \"CEO\", \"Chief Data Scientist\", \"Chief Executive Officer\", \"Chief Technology Officer\", \"Co-Founder\", \"Co-Founder & CEO\", \"Computer Vision Engineer\", \"Consultant\", \"Contributing Writer\", \"Data Analyst\", \"Data Analyst Intern\", \"Data Engineer\", \"Data Science Consultant\", \"Data Science Instructor\", \"Data Science Intern\", \"Data Science Mentor\", \"Data Science Trainee\", \"Data Scientist\", \"Data Scientist II\", \"Data Scientist Intern\", \"Developer\", \"Doctoral Student\", \"Founder\", \"Founder & CEO\", \"Frontend Web Developer\", \"Full Stack Engineer\", \"Graduate Research Assistant\", \"Head of Data Science\", \"Intern\", \"Junior Data Scientist\", \"Lead Data Scientist\", \"Lecturer\", \"Machine Learning Engineer\", \"Machine Learning Intern\", \"Marketing Data Analyst\", \"Mathematics Tutor\", \"Member\", \"Partner\", \"Postdoctoral Researcher\", \"Pre-ducation Program (PEP) - Training - 2021\", \"President\", \"President, Founding Chairman and Chief Executive Officer\", \"Pricing Data Analyst - Working Student\", \"Principal\", \"Principal Data Science Manager, Microsoft 365 Defender\", \"Principal Data Scientist\", \"Principal Scientist\", \"Principal Technology Solutions Engineer\", \"Procurement | Spend Analytics | Cost Savings | Supply Chain | Business Intelligence\", \"Product Analytics\", \"Product Design Intern\", \"Product Development Specialist\", \"Product Manager\", \"Product Manager & Testing Engineer\", \"Product Manager Intern\", \"Programmer\", \"Project Engineer\", \"Project Manager\", \"Project Manager - Business Intelligence Lead\", \"Project Researcher\", \"Pusat Informasi Lapangan Kerja\", \"Pusat Informasi dan Pengembangan Karir\", \"Python & Django Developer\", \"Python Developer\", \"React Developer\", \"Research Analyst - M&A Deals\", \"Research Assistant\", \"Research Assistant Internship\", \"Research Assistant and Instructor for Problem Sessions\", \"Research Engineer\", \"Research Fellow\", \"Research Intern\", \"Research Intern @ Applied Machine Learning Research\", \"Research Internship\", \"Research Professor, Department of Internal Medicine, Division of Epidemiology\", \"Research Scholar\", \"Research Software Engineer\", \"Senior Data Scientist\", \"Senior Software Engineer\", \"Software Engineer\", \"Software Engineer Intern\", \"Student\", \"Student Ambassador\", \"Student Intern\", \"Summer Intern\", \"System Analyst\", \"Teaching Assistant\", \"Technical Writer\", \"Undergraduate Student Teaching Fellow\", \"Video Solution Maker\", \"Web Developer\", \"\\u672c\\u79d1\\u751f\\u7814\\u7a76\\u52a9\\u7406\"], \"name\": \"\", \"parents\": [\"Pre-ducation Program (PEP) - Training - 2021\", \"President, Founding Chairman and Chief Executive Officer\", \"Pricing Data Analyst - Working Student\", \"Principal\", \"Principal Data Science Manager, Microsoft 365 Defender\", \"Principal Scientist\", \"Principal Technology Solutions Engineer\", \"Procurement | Spend Analytics | Cost Savings | Supply Chain | Business Intelligence\", \"Product Analytics\", \"Product Design Intern\", \"Product Development Specialist\", \"Product Manager & Testing Engineer\", \"Product Manager Intern\", \"Programmer\", \"Project Engineer\", \"Project Manager\", \"Project Manager - Business Intelligence Lead\", \"Project Researcher\", \"Pusat Informasi Lapangan Kerja\", \"Pusat Informasi dan Pengembangan Karir\", \"Python & Django Developer\", \"React Developer\", \"Research Analyst - M&A Deals\", \"Research Assistant Internship\", \"Research Assistant and Instructor for Problem Sessions\", \"Research Engineer\", \"Research Intern @ Applied Machine Learning Research\", \"Research Internship\", \"Research Professor, Department of Internal Medicine, Division of Epidemiology\", \"Research Scholar\", \"Research Software Engineer\", \"Application Developer\", \"Artificial Intelligence Engineer\", \"Associate\", \"Associate Editor\", \"Business Development Consultant\", \"Chief Data Scientist\", \"Chief Executive Officer\", \"Chief Technology Officer\", \"Co-Founder & CEO\", \"Consultant\", \"Data Analyst Intern\", \"Data Science Consultant\", \"Data Science Instructor\", \"Data Science Mentor\", \"Data Science Trainee\", \"Data Scientist II\", \"Data Scientist Intern\", \"Doctoral Student\", \"Full Stack Engineer\", \"Head of Data Science\", \"Junior Data Scientist\", \"Marketing Data Analyst\", \"Member\", \"Partner\", \"Python Developer\", \"Research Fellow\", \"Research Intern\", \"Senior Software Engineer\", \"Software Engineer Intern\", \"Student Ambassador\", \"Student Intern\", \"Summer Intern\", \"System Analyst\", \"Undergraduate Student Teaching Fellow\", \"Video Solution Maker\", \"\\u672c\\u79d1\\u751f\\u7814\\u7a76\\u52a9\\u7406\", \"Analyst\", \"Contributing Writer\", \"Developer\", \"Founder & CEO\", \"Frontend Web Developer\", \"Graduate Research Assistant\", \"Mathematics Tutor\", \"Product Manager\", \"Assistant Professor\", \"Business Analyst\", \"CEO\", \"Computer Vision Engineer\", \"Intern\", \"Lecturer\", \"Machine Learning Intern\", \"Postdoctoral Researcher\", \"President\", \"Principal Data Scientist\", \"Teaching Assistant\", \"Web Developer\", \"Data Engineer\", \"Lead Data Scientist\", \"Technical Writer\", \"Student\", \"Co-Founder\", \"Research Assistant\", \"Senior Data Scientist\", \"Software Engineer\", \"Data Science Intern\", \"Founder\", \"Data Analyst\", \"Machine Learning Engineer\", \"Data Scientist\", \"\", \"\", \"\", \"\", \"\", \"\", \"\", \"\", \"\", \"\", \"\", \"\", \"\", \"\", \"\", \"\", \"\", \"\", \"\", \"\", \"\", \"\", \"\", \"\", \"\", \"\", \"\", \"\", \"\", \"\", \"\", \"\", \"\", \"\", \"\", \"\", \"\", \"\", \"\", \"\", \"\", \"\", \"\", \"\", \"\", \"\", \"\", \"\", \"\", \"\", \"\", \"\", \"\", \"\", \"\", \"\", \"\", \"\", \"\", \"\", \"\", \"\", \"\", \"\", \"\", \"\", \"\", \"\", \"\", \"\", \"\", \"\", \"\", \"\", \"\", \"\", \"\", \"\", \"\", \"\", \"\", \"\", \"\", \"\", \"\", \"\", \"\", \"\", \"\", \"\", \"\", \"\", \"\", \"\", \"\", \"\", \"\", \"\", \"\", \"\"], \"type\": \"treemap\", \"values\": [1, 1, 1, 1, 1, 1, 1, 1, 1, 1, 1, 1, 1, 1, 1, 1, 1, 1, 1, 1, 1, 1, 1, 1, 1, 1, 1, 1, 1, 1, 1, 2, 2, 2, 2, 2, 2, 2, 2, 2, 2, 2, 2, 2, 2, 2, 2, 2, 2, 2, 2, 2, 2, 2, 2, 2, 2, 2, 2, 2, 2, 2, 2, 2, 2, 2, 2, 3, 3, 3, 3, 3, 3, 3, 3, 4, 4, 4, 4, 4, 4, 4, 4, 4, 4, 4, 4, 5, 6, 7, 8, 9, 9, 10, 11, 12, 15, 17, 18, 76, 3, 2, 2, 4, 2, 2, 4, 2, 4, 2, 2, 2, 9, 2, 4, 2, 3, 17, 2, 5, 2, 2, 12, 2, 2, 76, 2, 2, 3, 2, 15, 3, 3, 2, 3, 2, 4, 2, 6, 4, 18, 4, 2, 3, 2, 2, 4, 1, 4, 1, 1, 1, 1, 4, 1, 1, 1, 1, 1, 1, 3, 1, 1, 1, 1, 1, 1, 1, 1, 1, 1, 2, 1, 1, 9, 1, 1, 1, 2, 2, 1, 1, 1, 1, 1, 10, 2, 11, 2, 8, 2, 2, 2, 2, 4, 7, 2, 2, 4, 2]}],                        {\"legend\": {\"tracegroupgap\": 0}, \"margin\": {\"t\": 60}, \"template\": {\"data\": {\"bar\": [{\"error_x\": {\"color\": \"#2a3f5f\"}, \"error_y\": {\"color\": \"#2a3f5f\"}, \"marker\": {\"line\": {\"color\": \"#E5ECF6\", \"width\": 0.5}}, \"type\": \"bar\"}], \"barpolar\": [{\"marker\": {\"line\": {\"color\": \"#E5ECF6\", \"width\": 0.5}}, \"type\": \"barpolar\"}], \"carpet\": [{\"aaxis\": {\"endlinecolor\": \"#2a3f5f\", \"gridcolor\": \"white\", \"linecolor\": \"white\", \"minorgridcolor\": \"white\", \"startlinecolor\": \"#2a3f5f\"}, \"baxis\": {\"endlinecolor\": \"#2a3f5f\", \"gridcolor\": \"white\", \"linecolor\": \"white\", \"minorgridcolor\": \"white\", \"startlinecolor\": \"#2a3f5f\"}, \"type\": \"carpet\"}], \"choropleth\": [{\"colorbar\": {\"outlinewidth\": 0, \"ticks\": \"\"}, \"type\": \"choropleth\"}], \"contour\": [{\"colorbar\": {\"outlinewidth\": 0, \"ticks\": \"\"}, \"colorscale\": [[0.0, \"#0d0887\"], [0.1111111111111111, \"#46039f\"], [0.2222222222222222, \"#7201a8\"], [0.3333333333333333, \"#9c179e\"], [0.4444444444444444, \"#bd3786\"], [0.5555555555555556, \"#d8576b\"], [0.6666666666666666, \"#ed7953\"], [0.7777777777777778, \"#fb9f3a\"], [0.8888888888888888, \"#fdca26\"], [1.0, \"#f0f921\"]], \"type\": \"contour\"}], \"contourcarpet\": [{\"colorbar\": {\"outlinewidth\": 0, \"ticks\": \"\"}, \"type\": \"contourcarpet\"}], \"heatmap\": [{\"colorbar\": {\"outlinewidth\": 0, \"ticks\": \"\"}, \"colorscale\": [[0.0, \"#0d0887\"], [0.1111111111111111, \"#46039f\"], [0.2222222222222222, \"#7201a8\"], [0.3333333333333333, \"#9c179e\"], [0.4444444444444444, \"#bd3786\"], [0.5555555555555556, \"#d8576b\"], [0.6666666666666666, \"#ed7953\"], [0.7777777777777778, \"#fb9f3a\"], [0.8888888888888888, \"#fdca26\"], [1.0, \"#f0f921\"]], \"type\": \"heatmap\"}], \"heatmapgl\": [{\"colorbar\": {\"outlinewidth\": 0, \"ticks\": \"\"}, \"colorscale\": [[0.0, \"#0d0887\"], [0.1111111111111111, \"#46039f\"], [0.2222222222222222, \"#7201a8\"], [0.3333333333333333, \"#9c179e\"], [0.4444444444444444, \"#bd3786\"], [0.5555555555555556, \"#d8576b\"], [0.6666666666666666, \"#ed7953\"], [0.7777777777777778, \"#fb9f3a\"], [0.8888888888888888, \"#fdca26\"], [1.0, \"#f0f921\"]], \"type\": \"heatmapgl\"}], \"histogram\": [{\"marker\": {\"colorbar\": {\"outlinewidth\": 0, \"ticks\": \"\"}}, \"type\": \"histogram\"}], \"histogram2d\": [{\"colorbar\": {\"outlinewidth\": 0, \"ticks\": \"\"}, \"colorscale\": [[0.0, \"#0d0887\"], [0.1111111111111111, \"#46039f\"], [0.2222222222222222, \"#7201a8\"], [0.3333333333333333, \"#9c179e\"], [0.4444444444444444, \"#bd3786\"], [0.5555555555555556, \"#d8576b\"], [0.6666666666666666, \"#ed7953\"], [0.7777777777777778, \"#fb9f3a\"], [0.8888888888888888, \"#fdca26\"], [1.0, \"#f0f921\"]], \"type\": \"histogram2d\"}], \"histogram2dcontour\": [{\"colorbar\": {\"outlinewidth\": 0, \"ticks\": \"\"}, \"colorscale\": [[0.0, \"#0d0887\"], [0.1111111111111111, \"#46039f\"], [0.2222222222222222, \"#7201a8\"], [0.3333333333333333, \"#9c179e\"], [0.4444444444444444, \"#bd3786\"], [0.5555555555555556, \"#d8576b\"], [0.6666666666666666, \"#ed7953\"], [0.7777777777777778, \"#fb9f3a\"], [0.8888888888888888, \"#fdca26\"], [1.0, \"#f0f921\"]], \"type\": \"histogram2dcontour\"}], \"mesh3d\": [{\"colorbar\": {\"outlinewidth\": 0, \"ticks\": \"\"}, \"type\": \"mesh3d\"}], \"parcoords\": [{\"line\": {\"colorbar\": {\"outlinewidth\": 0, \"ticks\": \"\"}}, \"type\": \"parcoords\"}], \"pie\": [{\"automargin\": true, \"type\": \"pie\"}], \"scatter\": [{\"marker\": {\"colorbar\": {\"outlinewidth\": 0, \"ticks\": \"\"}}, \"type\": \"scatter\"}], \"scatter3d\": [{\"line\": {\"colorbar\": {\"outlinewidth\": 0, \"ticks\": \"\"}}, \"marker\": {\"colorbar\": {\"outlinewidth\": 0, \"ticks\": \"\"}}, \"type\": \"scatter3d\"}], \"scattercarpet\": [{\"marker\": {\"colorbar\": {\"outlinewidth\": 0, \"ticks\": \"\"}}, \"type\": \"scattercarpet\"}], \"scattergeo\": [{\"marker\": {\"colorbar\": {\"outlinewidth\": 0, \"ticks\": \"\"}}, \"type\": \"scattergeo\"}], \"scattergl\": [{\"marker\": {\"colorbar\": {\"outlinewidth\": 0, \"ticks\": \"\"}}, \"type\": \"scattergl\"}], \"scattermapbox\": [{\"marker\": {\"colorbar\": {\"outlinewidth\": 0, \"ticks\": \"\"}}, \"type\": \"scattermapbox\"}], \"scatterpolar\": [{\"marker\": {\"colorbar\": {\"outlinewidth\": 0, \"ticks\": \"\"}}, \"type\": \"scatterpolar\"}], \"scatterpolargl\": [{\"marker\": {\"colorbar\": {\"outlinewidth\": 0, \"ticks\": \"\"}}, \"type\": \"scatterpolargl\"}], \"scatterternary\": [{\"marker\": {\"colorbar\": {\"outlinewidth\": 0, \"ticks\": \"\"}}, \"type\": \"scatterternary\"}], \"surface\": [{\"colorbar\": {\"outlinewidth\": 0, \"ticks\": \"\"}, \"colorscale\": [[0.0, \"#0d0887\"], [0.1111111111111111, \"#46039f\"], [0.2222222222222222, \"#7201a8\"], [0.3333333333333333, \"#9c179e\"], [0.4444444444444444, \"#bd3786\"], [0.5555555555555556, \"#d8576b\"], [0.6666666666666666, \"#ed7953\"], [0.7777777777777778, \"#fb9f3a\"], [0.8888888888888888, \"#fdca26\"], [1.0, \"#f0f921\"]], \"type\": \"surface\"}], \"table\": [{\"cells\": {\"fill\": {\"color\": \"#EBF0F8\"}, \"line\": {\"color\": \"white\"}}, \"header\": {\"fill\": {\"color\": \"#C8D4E3\"}, \"line\": {\"color\": \"white\"}}, \"type\": \"table\"}]}, \"layout\": {\"annotationdefaults\": {\"arrowcolor\": \"#2a3f5f\", \"arrowhead\": 0, \"arrowwidth\": 1}, \"autotypenumbers\": \"strict\", \"coloraxis\": {\"colorbar\": {\"outlinewidth\": 0, \"ticks\": \"\"}}, \"colorscale\": {\"diverging\": [[0, \"#8e0152\"], [0.1, \"#c51b7d\"], [0.2, \"#de77ae\"], [0.3, \"#f1b6da\"], [0.4, \"#fde0ef\"], [0.5, \"#f7f7f7\"], [0.6, \"#e6f5d0\"], [0.7, \"#b8e186\"], [0.8, \"#7fbc41\"], [0.9, \"#4d9221\"], [1, \"#276419\"]], \"sequential\": [[0.0, \"#0d0887\"], [0.1111111111111111, \"#46039f\"], [0.2222222222222222, \"#7201a8\"], [0.3333333333333333, \"#9c179e\"], [0.4444444444444444, \"#bd3786\"], [0.5555555555555556, \"#d8576b\"], [0.6666666666666666, \"#ed7953\"], [0.7777777777777778, \"#fb9f3a\"], [0.8888888888888888, \"#fdca26\"], [1.0, \"#f0f921\"]], \"sequentialminus\": [[0.0, \"#0d0887\"], [0.1111111111111111, \"#46039f\"], [0.2222222222222222, \"#7201a8\"], [0.3333333333333333, \"#9c179e\"], [0.4444444444444444, \"#bd3786\"], [0.5555555555555556, \"#d8576b\"], [0.6666666666666666, \"#ed7953\"], [0.7777777777777778, \"#fb9f3a\"], [0.8888888888888888, \"#fdca26\"], [1.0, \"#f0f921\"]]}, \"colorway\": [\"#636efa\", \"#EF553B\", \"#00cc96\", \"#ab63fa\", \"#FFA15A\", \"#19d3f3\", \"#FF6692\", \"#B6E880\", \"#FF97FF\", \"#FECB52\"], \"font\": {\"color\": \"#2a3f5f\"}, \"geo\": {\"bgcolor\": \"white\", \"lakecolor\": \"white\", \"landcolor\": \"#E5ECF6\", \"showlakes\": true, \"showland\": true, \"subunitcolor\": \"white\"}, \"hoverlabel\": {\"align\": \"left\"}, \"hovermode\": \"closest\", \"mapbox\": {\"style\": \"light\"}, \"paper_bgcolor\": \"white\", \"plot_bgcolor\": \"#E5ECF6\", \"polar\": {\"angularaxis\": {\"gridcolor\": \"white\", \"linecolor\": \"white\", \"ticks\": \"\"}, \"bgcolor\": \"#E5ECF6\", \"radialaxis\": {\"gridcolor\": \"white\", \"linecolor\": \"white\", \"ticks\": \"\"}}, \"scene\": {\"xaxis\": {\"backgroundcolor\": \"#E5ECF6\", \"gridcolor\": \"white\", \"gridwidth\": 2, \"linecolor\": \"white\", \"showbackground\": true, \"ticks\": \"\", \"zerolinecolor\": \"white\"}, \"yaxis\": {\"backgroundcolor\": \"#E5ECF6\", \"gridcolor\": \"white\", \"gridwidth\": 2, \"linecolor\": \"white\", \"showbackground\": true, \"ticks\": \"\", \"zerolinecolor\": \"white\"}, \"zaxis\": {\"backgroundcolor\": \"#E5ECF6\", \"gridcolor\": \"white\", \"gridwidth\": 2, \"linecolor\": \"white\", \"showbackground\": true, \"ticks\": \"\", \"zerolinecolor\": \"white\"}}, \"shapedefaults\": {\"line\": {\"color\": \"#2a3f5f\"}}, \"ternary\": {\"aaxis\": {\"gridcolor\": \"white\", \"linecolor\": \"white\", \"ticks\": \"\"}, \"baxis\": {\"gridcolor\": \"white\", \"linecolor\": \"white\", \"ticks\": \"\"}, \"bgcolor\": \"#E5ECF6\", \"caxis\": {\"gridcolor\": \"white\", \"linecolor\": \"white\", \"ticks\": \"\"}}, \"title\": {\"x\": 0.05}, \"xaxis\": {\"automargin\": true, \"gridcolor\": \"white\", \"linecolor\": \"white\", \"ticks\": \"\", \"title\": {\"standoff\": 15}, \"zerolinecolor\": \"white\", \"zerolinewidth\": 2}, \"yaxis\": {\"automargin\": true, \"gridcolor\": \"white\", \"linecolor\": \"white\", \"ticks\": \"\", \"title\": {\"standoff\": 15}, \"zerolinecolor\": \"white\", \"zerolinewidth\": 2}}}},                        {\"responsive\": true}                    ).then(function(){\n",
       "                            \n",
       "var gd = document.getElementById('8dff01c2-cb64-4d07-86a6-14ace7e87c2e');\n",
       "var x = new MutationObserver(function (mutations, observer) {{\n",
       "        var display = window.getComputedStyle(gd).display;\n",
       "        if (!display || display === 'none') {{\n",
       "            console.log([gd, 'removed!']);\n",
       "            Plotly.purge(gd);\n",
       "            observer.disconnect();\n",
       "        }}\n",
       "}});\n",
       "\n",
       "// Listen for the removal of the full notebook cells\n",
       "var notebookContainer = gd.closest('#notebook-container');\n",
       "if (notebookContainer) {{\n",
       "    x.observe(notebookContainer, {childList: true});\n",
       "}}\n",
       "\n",
       "// Listen for the clearing of the current output cell\n",
       "var outputEl = gd.closest('.output');\n",
       "if (outputEl) {{\n",
       "    x.observe(outputEl, {childList: true});\n",
       "}}\n",
       "\n",
       "                        })                };                });            </script>        </div>"
      ]
     },
     "metadata": {},
     "output_type": "display_data"
    }
   ],
   "source": [
    "# Create a treemap for the top positions\n",
    "fig5 = px.treemap(df_by_position[:100], path=[\"Position\", \"Company\"],\n",
    "                 values=\"First Name\",\n",
    "                 labels={\"First Name\": \"Count\"})\n",
    "fig5.show()"
   ]
  },
  {
   "cell_type": "markdown",
   "metadata": {
    "papermill": {
     "duration": 0.023575,
     "end_time": "2021-02-24T05:24:25.256294",
     "exception": false,
     "start_time": "2021-02-24T05:24:25.232719",
     "status": "completed"
    },
    "tags": []
   },
   "source": [
    "The top position in my network is data scientists, followed by machine learning engineers and data analysts. It is great to know that the top common positions in my network are my target group for networking."
   ]
  },
  {
   "cell_type": "code",
   "execution_count": 12,
   "metadata": {
    "execution": {
     "iopub.execute_input": "2021-02-24T05:24:25.307197Z",
     "iopub.status.busy": "2021-02-24T05:24:25.306502Z",
     "iopub.status.idle": "2021-02-24T05:24:25.313855Z",
     "shell.execute_reply": "2021-02-24T05:24:25.314455Z"
    },
    "papermill": {
     "duration": 0.034658,
     "end_time": "2021-02-24T05:24:25.314659",
     "exception": false,
     "start_time": "2021-02-24T05:24:25.280001",
     "status": "completed"
    },
    "tags": []
   },
   "outputs": [
    {
     "output_type": "execute_result",
     "data": {
      "text/plain": [
       "129"
      ]
     },
     "metadata": {},
     "execution_count": 12
    }
   ],
   "source": [
    "# Find all positions that contains 'Data Scientist'\n",
    "df[\"Position\"].str.contains(\"Data Scientist\").sum()"
   ]
  },
  {
   "cell_type": "markdown",
   "metadata": {
    "papermill": {
     "duration": 0.023972,
     "end_time": "2021-02-24T05:24:25.362771",
     "exception": false,
     "start_time": "2021-02-24T05:24:25.338799",
     "status": "completed"
    },
    "tags": []
   },
   "source": [
    "Wow, I didn't expect to see that many data scientists in my network! "
   ]
  },
  {
   "cell_type": "markdown",
   "metadata": {
    "papermill": {
     "duration": 0.02413,
     "end_time": "2021-02-24T05:24:25.411298",
     "exception": false,
     "start_time": "2021-02-24T05:24:25.387168",
     "status": "completed"
    },
    "tags": []
   },
   "source": [
    "## Takeaways\n",
    "It is always fun and interesting to analyze your own data as you might be surprised by what you see and learned something helpful. Personally, these treemaps made me realize that my LinkedIn network is much more diverse than I had thought.\n",
    "\n",
    "Let's connect on [LinkedIn](https://www.linkedin.com/in/richardcsuwandi/)!"
   ]
  }
 ],
 "metadata": {
  "kernelspec": {
   "display_name": "Python 3",
   "language": "python",
   "name": "python3"
  },
  "language_info": {
   "codemirror_mode": {
    "name": "ipython",
    "version": 3
   },
   "file_extension": ".py",
   "mimetype": "text/x-python",
   "name": "python",
   "nbconvert_exporter": "python",
   "pygments_lexer": "ipython3",
   "version": "3.7.7-final"
  },
  "papermill": {
   "default_parameters": {},
   "duration": 11.156625,
   "end_time": "2021-02-24T05:24:26.147466",
   "environment_variables": {},
   "exception": null,
   "input_path": "__notebook__.ipynb",
   "output_path": "__notebook__.ipynb",
   "parameters": {},
   "start_time": "2021-02-24T05:24:14.990841",
   "version": "2.2.2"
  }
 },
 "nbformat": 4,
 "nbformat_minor": 4
}